{
 "cells": [
  {
   "cell_type": "code",
   "execution_count": 14,
   "metadata": {},
   "outputs": [],
   "source": [
    "import sympy as sp\n",
    "# need to import the custom function to print vectors\n",
    "from vector_expr_printing import vector_latex\n",
    "# starting point of a vector expression is a vector symbol\n",
    "from vector_expr import (\n",
    "    VectorSymbol, VectorExpr, VectorZero, VectorOne, Nabla,\n",
    "    VecAdd, VecMul, VecPow\n",
    ")\n",
    "# also import symbolic vectors\n",
    "from sympy.vector import CoordSys3D, Vector\n",
    "# setting the printer to use latex_vector function\n",
    "from sympy.interactive import printing\n",
    "printing.init_printing(latex_printer=vector_latex)\n",
    "\n",
    "v1 = VectorSymbol(\"v_1\")\n",
    "v2 = VectorSymbol(\"v_2\")\n",
    "nabla = Nabla()\n",
    "zero = VectorZero()\n",
    "one = VectorOne()\n",
    "x, y = sp.symbols(\"x, y\")"
   ]
  },
  {
   "cell_type": "code",
   "execution_count": 2,
   "metadata": {},
   "outputs": [
    {
     "data": {
      "image/png": "[encoded data removed]",
      "text/latex": [
       "$\\displaystyle \\left(\\vec{v}_{1} \\cdot \\left(- \\vec{1} + \\vec{v}_{2}\\right)\\right) \\vec{v}_{1} + \\vec{v}_{1} - \\vec{v}_{2} + \\vec{v}_{2} \\times \\left(\\vec{1} + \\vec{v}_{1}\\right)$"
      ],
      "text/plain": [
       "VecDot(VectorSymbol(v_1), -VectorOne(1) + VectorSymbol(v_2))⋅VectorSymbol(v_1)\n",
       " + VectorSymbol(v_1) - VectorSymbol(v_2) + VecCross(VectorSymbol(v_2), VectorO\n",
       "ne(1) + VectorSymbol(v_1))"
      ]
     },
     "execution_count": 2,
     "metadata": {},
     "output_type": "execute_result"
    }
   ],
   "source": [
    "# (one + v1 ^ v2)\n",
    "# ((3 + (v1 & v2) + v1.mag) * v1).diff(x, evaluate=False)\n",
    "v1 + (v2 ^ (v1 + one)) - v2 + (v1 & (v2 - one)) * v1\n",
    "\n"
   ]
  },
  {
   "cell_type": "code",
   "execution_count": 3,
   "metadata": {},
   "outputs": [
    {
     "data": {
      "image/png": "[encoded data removed]",
      "text/latex": [
       "$\\displaystyle - \\|\\vec{v}_{1}\\| \\left(\\vec{v}_{2} \\times \\vec{v}_{1}\\right)$"
      ],
      "text/plain": [
       "-Magnitude(VectorSymbol(v_1))⋅VecCross(VectorSymbol(v_2), VectorSymbol(v_1))"
      ]
     },
     "execution_count": 3,
     "metadata": {},
     "output_type": "execute_result"
    }
   ],
   "source": [
    "v1.mag * (v1 ^ v2).reverse"
   ]
  },
  {
   "cell_type": "code",
   "execution_count": 2,
   "metadata": {},
   "outputs": [
    {
     "name": "stdout",
     "output_type": "stream",
     "text": [
      "VecMul <class 'vector_expr.VectorOne'> VectorOne(1) (1,)\n",
      "VecMul <class 'vector_expr.VectorOne'> VectorOne(1) (1,)\n",
      "VecMul <class 'vector_expr.VectorOne'> VectorOne(1) (1,)\n"
     ]
    },
    {
     "data": {
      "image/png": "[encoded data removed]",
      "text/latex": [
       "$\\displaystyle - \\vec{1}$"
      ],
      "text/plain": [
       "-VectorOne(1)"
      ]
     },
     "execution_count": 2,
     "metadata": {},
     "output_type": "execute_result"
    }
   ],
   "source": [
    "-one\n"
   ]
  },
  {
   "cell_type": "code",
   "execution_count": 4,
   "metadata": {},
   "outputs": [
    {
     "data": {
      "image/png": "[encoded data removed]",
      "text/latex": [
       "$\\displaystyle \\left( 1\\right)$"
      ],
      "text/plain": [
       "(1,)"
      ]
     },
     "execution_count": 4,
     "metadata": {},
     "output_type": "execute_result"
    }
   ],
   "source": [
    "one.args"
   ]
  },
  {
   "cell_type": "code",
   "execution_count": 3,
   "metadata": {},
   "outputs": [
    {
     "data": {
      "image/png": "[encoded data removed]",
      "text/latex": [
       "$\\displaystyle \\left( \\right)$"
      ],
      "text/plain": [
       "()"
      ]
     },
     "execution_count": 3,
     "metadata": {},
     "output_type": "execute_result"
    }
   ],
   "source": [
    "# Vector.zero.func(*Vector.zero.args)\n",
    "Vector.zero.args\n"
   ]
  },
  {
   "cell_type": "code",
   "execution_count": 5,
   "metadata": {},
   "outputs": [
    {
     "data": {
      "image/png": "[encoded data removed]",
      "text/latex": [
       "$\\displaystyle \\frac{d \\vec{v}_{1}}{d x}$"
      ],
      "text/plain": [
       "D(Derivative(VectorSymbol(v_1), x))"
      ]
     },
     "execution_count": 5,
     "metadata": {},
     "output_type": "execute_result"
    }
   ],
   "source": [
    "v1.diff(x)"
   ]
  },
  {
   "cell_type": "code",
   "execution_count": 6,
   "metadata": {},
   "outputs": [
    {
     "data": {
      "image/png": "[encoded data removed]",
      "text/latex": [
       "$\\displaystyle \\frac{d \\|\\vec{v}_{1}\\|}{d x}$"
      ],
      "text/plain": [
       "D(Derivative(Magnitude(VectorSymbol(v_1)), x))"
      ]
     },
     "execution_count": 6,
     "metadata": {},
     "output_type": "execute_result"
    }
   ],
   "source": [
    "v1.mag.diff(x)"
   ]
  },
  {
   "cell_type": "code",
   "execution_count": 4,
   "metadata": {},
   "outputs": [
    {
     "data": {
      "image/png": "[encoded data removed]",
      "text/latex": [
       "$\\displaystyle \\frac{d^{2}}{d x^{2}} \\|\\left(\\|\\vec{v}_{1}\\| \\vec{1} + \\vec{v}_{2}\\right)\\|$"
      ],
      "text/plain": [
       "D(Derivative(Magnitude(Magnitude(VectorSymbol(v_1))*VectorOne(1) + VectorSymbo\n",
       "l(v_2)), (x, 2)))"
      ]
     },
     "execution_count": 4,
     "metadata": {},
     "output_type": "execute_result"
    }
   ],
   "source": [
    "(v1.mag * one + v2).mag.diff(x, 2)"
   ]
  },
  {
   "cell_type": "code",
   "execution_count": 5,
   "metadata": {},
   "outputs": [
    {
     "data": {
      "image/png": "[encoded data removed]",
      "text/latex": [
       "$\\displaystyle \\frac{d}{d x} \\left(\\vec{v}_{1} + \\vec{v}_{2}\\right)$"
      ],
      "text/plain": [
       "D(Derivative(VectorSymbol(v_1) + VectorSymbol(v_2), x))"
      ]
     },
     "execution_count": 5,
     "metadata": {},
     "output_type": "execute_result"
    }
   ],
   "source": [
    "(v1 + v2).diff(x, evaluate=False)"
   ]
  },
  {
   "cell_type": "code",
   "execution_count": 4,
   "metadata": {},
   "outputs": [
    {
     "data": {
      "image/png": "[encoded data removed]",
      "text/latex": [
       "$\\displaystyle \\frac{d}{d x} \\left(\\vec{v}_{1} + \\vec{v}_{2}\\right)$"
      ],
      "text/plain": [
       "D(Derivative(VectorSymbol(v_1) + VectorSymbol(v_2), x))"
      ]
     },
     "execution_count": 4,
     "metadata": {},
     "output_type": "execute_result"
    }
   ],
   "source": [
    "(v1 + v2).diff(x, evaluate=False)"
   ]
  },
  {
   "cell_type": "code",
   "execution_count": 5,
   "metadata": {},
   "outputs": [
    {
     "data": {
      "image/png": "[encoded data removed]",
      "text/latex": [
       "$\\displaystyle \\frac{d}{d x} \\left(\\vec{v}_{1} \\times \\vec{v}_{2}\\right)$"
      ],
      "text/plain": [
       "D(Derivative(VecCross(VectorSymbol(v_1), VectorSymbol(v_2)), x))"
      ]
     },
     "execution_count": 5,
     "metadata": {},
     "output_type": "execute_result"
    }
   ],
   "source": [
    "(v1 ^ v2).diff(x, evaluate=False)"
   ]
  },
  {
   "cell_type": "code",
   "execution_count": 6,
   "metadata": {},
   "outputs": [
    {
     "data": {
      "image/png": "[encoded data removed]",
      "text/latex": [
       "$\\displaystyle \\frac{d}{d x} \\left(\\vec{v}_{1} \\cdot \\vec{v}_{2}\\right)$"
      ],
      "text/plain": [
       "D(Derivative(VecDot(VectorSymbol(v_1), VectorSymbol(v_2)), x))"
      ]
     },
     "execution_count": 6,
     "metadata": {},
     "output_type": "execute_result"
    }
   ],
   "source": [
    "(v1 & v2).diff(x, evaluate=False)"
   ]
  },
  {
   "cell_type": "code",
   "execution_count": 7,
   "metadata": {},
   "outputs": [
    {
     "data": {
      "image/png": "[encoded data removed]",
      "text/latex": [
       "$\\displaystyle \\frac{d}{d x} \\|\\vec{v}_{1}\\| \\vec{v}_{2}$"
      ],
      "text/plain": [
       "D(Derivative(Magnitude(VectorSymbol(v_1))*VectorSymbol(v_2), x))"
      ]
     },
     "execution_count": 7,
     "metadata": {},
     "output_type": "execute_result"
    }
   ],
   "source": [
    "(v1.mag * v2).diff(x, evaluate=False)"
   ]
  },
  {
   "cell_type": "code",
   "execution_count": 8,
   "metadata": {},
   "outputs": [
    {
     "data": {
      "image/png": "[encoded data removed]",
      "text/latex": [
       "$\\displaystyle x \\frac{\\partial}{\\partial x} x y$"
      ],
      "text/plain": [
       "  ∂      \n",
       "x⋅──(x⋅y)\n",
       "  ∂x     "
      ]
     },
     "execution_count": 8,
     "metadata": {},
     "output_type": "execute_result"
    }
   ],
   "source": [
    "sp.Derivative(x * y, x) * x"
   ]
  },
  {
   "cell_type": "code",
   "execution_count": 9,
   "metadata": {},
   "outputs": [],
   "source": [
    "(v2.mag * v1.mag + 2).diff(x, evaluate=False)"
   ]
  },
  {
   "cell_type": "code",
   "execution_count": 18,
   "metadata": {},
   "outputs": [
    {
     "data": {
      "image/png": "[encoded data removed]",
      "text/latex": [
       "$\\displaystyle \\frac{d}{d x} \\left(x + \\|\\vec{v}_{1}\\| \\|\\vec{v}_{2}\\|\\right)$"
      ],
      "text/plain": [
       "D(Derivative(x + Magnitude(VectorSymbol(v_1))*Magnitude(VectorSymbol(v_2)), x)\n",
       ")"
      ]
     },
     "execution_count": 18,
     "metadata": {},
     "output_type": "execute_result"
    }
   ],
   "source": [
    "# VecAdd(v1.mag, sp.S(2)).diff(x, evaluate=False)\n",
    "(v1.mag * v2.mag + x).diff(x, evaluate=False)\n"
   ]
  },
  {
   "cell_type": "code",
   "execution_count": 23,
   "metadata": {},
   "outputs": [
    {
     "data": {
      "image/png": "[encoded data removed]",
      "text/latex": [
       "$\\displaystyle \\|\\vec{v}_{1}\\|$"
      ],
      "text/plain": [
       "Magnitude(VectorSymbol(v_1))"
      ]
     },
     "execution_count": 23,
     "metadata": {},
     "output_type": "execute_result"
    }
   ],
   "source": [
    "v1.mag"
   ]
  },
  {
   "cell_type": "code",
   "execution_count": 7,
   "metadata": {},
   "outputs": [
    {
     "data": {
      "image/png": "[encoded data removed]",
      "text/latex": [
       "$\\displaystyle \\left(\\vec{v}_{1} \\cdot \\vec{v}_{2}\\right)^{2}$"
      ],
      "text/plain": [
       "VecPow(VecDot(VectorSymbol(v_1), VectorSymbol(v_2)), 2)"
      ]
     },
     "execution_count": 7,
     "metadata": {},
     "output_type": "execute_result"
    }
   ],
   "source": [
    "((v1 & v2))**2"
   ]
  },
  {
   "cell_type": "code",
   "execution_count": 8,
   "metadata": {},
   "outputs": [
    {
     "data": {
      "image/png": "[encoded data removed]",
      "text/latex": [
       "$\\displaystyle \\frac{d^{2}}{d x^{2}} \\left(\\vec{v}_{1} \\times \\vec{v}_{2}\\right) = 2 \\left(\\frac{d \\vec{v}_{1}}{d x} \\times \\frac{d \\vec{v}_{2}}{d x}\\right) + \\frac{d^{2} \\vec{v}_{1}}{d x^{2}} \\times \\vec{v}_{2} + \\vec{v}_{1} \\times \\frac{d^{2} \\vec{v}_{2}}{d x^{2}}$"
      ],
      "text/plain": [
       "D(Derivative(VecCross(VectorSymbol(v_1), VectorSymbol(v_2)), (x, 2))) = 2⋅VecC\n",
       "ross(D(Derivative(VectorSymbol(v_1), x)), D(Derivative(VectorSymbol(v_2), x)))\n",
       " + VecCross(D(Derivative(VectorSymbol(v_1), (x, 2))), VectorSymbol(v_2)) + Vec\n",
       "Cross(VectorSymbol(v_1), D(Derivative(VectorSymbol(v_2), (x, 2))))"
      ]
     },
     "execution_count": 8,
     "metadata": {},
     "output_type": "execute_result"
    }
   ],
   "source": [
    "sp.Eq((v1 ^ v2).diff(x, 2, evaluate=False), (v1 ^ v2).diff(x, 2))"
   ]
  },
  {
   "cell_type": "code",
   "execution_count": 19,
   "metadata": {},
   "outputs": [
    {
     "data": {
      "image/png": "[encoded data removed]",
      "text/latex": [
       "$\\displaystyle \\left(\\vec{v}_{1} \\cdot \\vec{v}_{2}\\right) \\left(\\vec{v}_{1} \\times \\vec{1}\\right) + \\vec{v}_{1}$"
      ],
      "text/plain": [
       "VecDot(VectorSymbol(v_1), VectorSymbol(v_2))⋅VecCross(VectorSymbol(v_1), Vecto\n",
       "rOne(1)) + VectorSymbol(v_1)"
      ]
     },
     "execution_count": 19,
     "metadata": {},
     "output_type": "execute_result"
    }
   ],
   "source": [
    "(v1 + (v1 ^ one) * (v1 & v2))"
   ]
  },
  {
   "cell_type": "code",
   "execution_count": null,
   "metadata": {},
   "outputs": [],
   "source": []
  }
 ],
 "metadata": {
  "kernelspec": {
   "display_name": "Python 3",
   "language": "python",
   "name": "python3"
  },
  "language_info": {
   "codemirror_mode": {
    "name": "ipython",
    "version": 3
   },
   "file_extension": ".py",
   "mimetype": "text/x-python",
   "name": "python",
   "nbconvert_exporter": "python",
   "pygments_lexer": "ipython3",
   "version": "3.7.5"
  },
  "toc": {
   "base_numbering": 1,
   "nav_menu": {},
   "number_sections": true,
   "sideBar": true,
   "skip_h1_title": false,
   "title_cell": "Table of Contents",
   "title_sidebar": "Contents",
   "toc_cell": false,
   "toc_position": {},
   "toc_section_display": true,
   "toc_window_display": false
  }
 },
 "nbformat": 4,
 "nbformat_minor": 2
}
