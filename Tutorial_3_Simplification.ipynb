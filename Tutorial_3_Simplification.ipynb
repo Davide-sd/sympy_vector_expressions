{
 "cells": [
  {
   "cell_type": "markdown",
   "metadata": {},
   "source": [
    "# Simplification"
   ]
  },
  {
   "cell_type": "code",
   "execution_count": 1,
   "metadata": {},
   "outputs": [],
   "source": [
    "import sympy as sp\n",
    "# need to import the custom function to print vectors\n",
    "from vector_expr_printing import vector_latex\n",
    "# starting point of a vector expression is a vector symbol\n",
    "from vector_expr import (\n",
    "    VectorSymbol, VectorExpr, VectorZero, VectorOne, Nabla,\n",
    "    VecCross, VecDot, Grad, Laplace\n",
    ")\n",
    "# also import symbolic vectors\n",
    "from sympy.vector import CoordSys3D, Vector\n",
    "# setting the printer to use latex_vector function\n",
    "from sympy.interactive import printing\n",
    "printing.init_printing(latex_printer=vector_latex)"
   ]
  },
  {
   "cell_type": "code",
   "execution_count": 2,
   "metadata": {},
   "outputs": [],
   "source": [
    "a, b, c, d, e, f, g, h = [VectorSymbol(t) for t in \n",
    "            [\"a\", \"b\", \"c\", \"d\", \"e\", \"f\", \"g\", \"h\"]]\n",
    "x, y, z = sp.symbols(\"x:z\")"
   ]
  },
  {
   "cell_type": "markdown",
   "metadata": {},
   "source": [
    "Let's import a few functions from the simplification module:"
   ]
  },
  {
   "cell_type": "code",
   "execution_count": 3,
   "metadata": {},
   "outputs": [],
   "source": [
    "from vector_simplify import (\n",
    "    bac_cab, dot_cross, find_bac_cab, find_double_cross, \n",
    "    collect, collect_cross_dot, simplify, identities\n",
    ")"
   ]
  },
  {
   "cell_type": "markdown",
   "metadata": {},
   "source": [
    "## BAC-CAB rule"
   ]
  },
  {
   "cell_type": "markdown",
   "metadata": {},
   "source": [
    "We are all familiar with the double cross product rule, also known as **bac-cab** rule:\n",
    "\n",
    "$$\n",
    "\\vec{a} \\times \\left(\\vec{b} \\times \\vec{c}\\right) = \\vec{b} \\left(\\vec{a} \\cdot \\vec{c}\\right) - \\vec{c} \\left(\\vec{a} \\cdot \\vec{b}\\right)\n",
    "$$\n",
    "\n",
    "This module exposes the following function `bac_cab(expr, forward=True, matches=None)`. Specifically:\n",
    "* `bac_cab(expr, forward=True)` to perform the substitution from the left to the right.\n",
    "* `bac_cab(expr, forward=False)` to perform the substitution from the right to the elft.\n",
    "\n",
    "Let's see a few examples:"
   ]
  },
  {
   "cell_type": "code",
   "execution_count": 4,
   "metadata": {},
   "outputs": [
    {
     "data": {
      "image/png": "[encoded data removed]",
      "text/latex": [
       "$\\displaystyle 2 x \\left(\\vec{a} \\times \\left(\\vec{b} \\times \\vec{c}\\right)\\right) + \\vec{d} \\times \\left(\\vec{e} \\times \\vec{f}\\right)$"
      ],
      "text/plain": [
       "2⋅x⋅VecCross(VectorSymbol(a), VecCross(VectorSymbol(b), VectorSymbol(c))) + Ve\n",
       "cCross(VectorSymbol(d), VecCross(VectorSymbol(e), VectorSymbol(f)))"
      ]
     },
     "metadata": {},
     "output_type": "display_data"
    },
    {
     "data": {
      "image/png": "[encoded data removed]",
      "text/latex": [
       "$\\displaystyle 2 x \\left(- \\left(\\vec{a} \\cdot \\vec{b}\\right) \\vec{c} + \\left(\\vec{a} \\cdot \\vec{c}\\right) \\vec{b}\\right) - \\left(\\vec{d} \\cdot \\vec{e}\\right) \\vec{f} + \\left(\\vec{d} \\cdot \\vec{f}\\right) \\vec{e}$"
      ],
      "text/plain": [
       "2⋅x⋅(-VecDot(VectorSymbol(a), VectorSymbol(b))⋅VectorSymbol(c) + VecDot(Vector\n",
       "Symbol(a), VectorSymbol(c))⋅VectorSymbol(b)) - VecDot(VectorSymbol(d), VectorS\n",
       "ymbol(e))⋅VectorSymbol(f) + VecDot(VectorSymbol(d), VectorSymbol(f))⋅VectorSym\n",
       "bol(e)"
      ]
     },
     "metadata": {},
     "output_type": "display_data"
    }
   ],
   "source": [
    "expr = 2 * x * (a ^ (b ^ c)) + (d ^ (e ^ f))\n",
    "display(expr, bac_cab(expr))"
   ]
  },
  {
   "cell_type": "markdown",
   "metadata": {},
   "source": [
    "As we can see, the function went on to substitue all the occurences. Should we wish to target only one occurence, we can pass the target as the second argument:"
   ]
  },
  {
   "cell_type": "code",
   "execution_count": 5,
   "metadata": {},
   "outputs": [
    {
     "data": {
      "image/png": "[encoded data removed]",
      "text/latex": [
       "$\\displaystyle 2 x \\left(- \\left(\\vec{a} \\cdot \\vec{b}\\right) \\vec{c} + \\left(\\vec{a} \\cdot \\vec{c}\\right) \\vec{b}\\right) + \\vec{d} \\times \\left(\\vec{e} \\times \\vec{f}\\right)$"
      ],
      "text/plain": [
       "2⋅x⋅(-VecDot(VectorSymbol(a), VectorSymbol(b))⋅VectorSymbol(c) + VecDot(Vector\n",
       "Symbol(a), VectorSymbol(c))⋅VectorSymbol(b)) + VecCross(VectorSymbol(d), VecCr\n",
       "oss(VectorSymbol(e), VectorSymbol(f)))"
      ]
     },
     "execution_count": 5,
     "metadata": {},
     "output_type": "execute_result"
    }
   ],
   "source": [
    "targets = find_double_cross(expr)\n",
    "bac_cab(expr, True, targets[0])"
   ]
  },
  {
   "cell_type": "markdown",
   "metadata": {},
   "source": [
    "Here we used the function `find_double_cross(expr)` to easily find all the occurences, then we selected the one we were interested in substituting.\n",
    "\n",
    "Another example, to show that the function is able to detect not only `VectorSymbol`s:"
   ]
  },
  {
   "cell_type": "code",
   "execution_count": 6,
   "metadata": {},
   "outputs": [
    {
     "data": {
      "image/png": "[encoded data removed]",
      "text/latex": [
       "$\\displaystyle \\vec{a} \\times \\left(\\left(2 \\vec{b} + 2 \\vec{c}\\right) \\times \\left(x \\vec{d}\\right)\\right)$"
      ],
      "text/plain": [
       "VecCross(VectorSymbol(a), VecCross(2*VectorSymbol(b) + 2*VectorSymbol(c), x*Ve\n",
       "ctorSymbol(d)))"
      ]
     },
     "metadata": {},
     "output_type": "display_data"
    },
    {
     "data": {
      "image/png": "[encoded data removed]",
      "text/latex": [
       "$\\displaystyle - x \\left(\\vec{a} \\cdot \\left(2 \\vec{b} + 2 \\vec{c}\\right)\\right) \\vec{d} + \\left(2 \\vec{b} + 2 \\vec{c}\\right) \\left(\\vec{a} \\cdot \\left(x \\vec{d}\\right)\\right)$"
      ],
      "text/plain": [
       "-x⋅VecDot(VectorSymbol(a), 2*VectorSymbol(b) + 2*VectorSymbol(c))⋅VectorSymbol\n",
       "(d) + (2⋅VectorSymbol(b) + 2⋅VectorSymbol(c))⋅VecDot(VectorSymbol(a), x*Vector\n",
       "Symbol(d))"
      ]
     },
     "metadata": {},
     "output_type": "display_data"
    }
   ],
   "source": [
    "expr = a ^ ((2 * (b + c)) ^ (x * d))\n",
    "display(expr, bac_cab(expr))"
   ]
  },
  {
   "cell_type": "markdown",
   "metadata": {},
   "source": [
    "Now, let's move backward:"
   ]
  },
  {
   "cell_type": "code",
   "execution_count": 7,
   "metadata": {},
   "outputs": [
    {
     "data": {
      "image/png": "[encoded data removed]",
      "text/latex": [
       "$\\displaystyle - 2 x y \\left(\\vec{d} \\cdot \\vec{e}\\right) \\vec{f} + 2 x y \\left(\\vec{e} \\cdot \\vec{f}\\right) \\vec{d} - \\left(\\vec{a} \\cdot \\vec{b}\\right) \\vec{c} + \\left(\\vec{a} \\cdot \\vec{c}\\right) \\vec{b}$"
      ],
      "text/plain": [
       "-2⋅x⋅y⋅VecDot(VectorSymbol(d), VectorSymbol(e))⋅VectorSymbol(f) + 2⋅x⋅y⋅VecDot\n",
       "(VectorSymbol(e), VectorSymbol(f))⋅VectorSymbol(d) - VecDot(VectorSymbol(a), V\n",
       "ectorSymbol(b))⋅VectorSymbol(c) + VecDot(VectorSymbol(a), VectorSymbol(c))⋅Vec\n",
       "torSymbol(b)"
      ]
     },
     "metadata": {},
     "output_type": "display_data"
    },
    {
     "data": {
      "image/png": "[encoded data removed]",
      "text/latex": [
       "$\\displaystyle 2 x y \\left(\\vec{e} \\times \\left(\\vec{d} \\times \\vec{f}\\right)\\right) + \\vec{a} \\times \\left(\\vec{b} \\times \\vec{c}\\right)$"
      ],
      "text/plain": [
       "2⋅x⋅y⋅VecCross(VectorSymbol(e), VecCross(VectorSymbol(d), VectorSymbol(f))) + \n",
       "VecCross(VectorSymbol(a), VecCross(VectorSymbol(b), VectorSymbol(c)))"
      ]
     },
     "metadata": {},
     "output_type": "display_data"
    }
   ],
   "source": [
    "expr = (b * (a & c)) - (c * (a & b)) + 2 * x * y * (d * (e & f)) - (2 * x * y * f * (d & e))\n",
    "display(expr, bac_cab(expr, False))"
   ]
  },
  {
   "cell_type": "markdown",
   "metadata": {},
   "source": [
    "Again, should we wish to target only one occurence, we can pass the target as the second argument:"
   ]
  },
  {
   "cell_type": "code",
   "execution_count": 8,
   "metadata": {},
   "outputs": [
    {
     "data": {
      "image/png": "[encoded data removed]",
      "text/latex": [
       "$\\displaystyle \\left[ - \\left(\\vec{a} \\cdot \\vec{b}\\right) \\vec{c} + \\left(\\vec{a} \\cdot \\vec{c}\\right) \\vec{b}, \\  - 2 x y \\left(\\vec{d} \\cdot \\vec{e}\\right) \\vec{f} + 2 x y \\left(\\vec{e} \\cdot \\vec{f}\\right) \\vec{d}\\right]$"
      ],
      "text/plain": [
       "[-VecDot(VectorSymbol(a), VectorSymbol(b))⋅VectorSymbol(c) + VecDot(VectorSymb\n",
       "ol(a), VectorSymbol(c))⋅VectorSymbol(b), -2⋅x⋅y⋅VecDot(VectorSymbol(d), Vector\n",
       "Symbol(e))⋅VectorSymbol(f) + 2⋅x⋅y⋅VecDot(VectorSymbol(e), VectorSymbol(f))⋅Ve\n",
       "ctorSymbol(d)]"
      ]
     },
     "metadata": {},
     "output_type": "display_data"
    },
    {
     "data": {
      "image/png": "[encoded data removed]",
      "text/latex": [
       "$\\displaystyle 2 x y \\left(\\vec{e} \\times \\left(\\vec{d} \\times \\vec{f}\\right)\\right) - \\left(\\vec{a} \\cdot \\vec{b}\\right) \\vec{c} + \\left(\\vec{a} \\cdot \\vec{c}\\right) \\vec{b}$"
      ],
      "text/plain": [
       "2⋅x⋅y⋅VecCross(VectorSymbol(e), VecCross(VectorSymbol(d), VectorSymbol(f))) - \n",
       "VecDot(VectorSymbol(a), VectorSymbol(b))⋅VectorSymbol(c) + VecDot(VectorSymbol\n",
       "(a), VectorSymbol(c))⋅VectorSymbol(b)"
      ]
     },
     "execution_count": 8,
     "metadata": {},
     "output_type": "execute_result"
    }
   ],
   "source": [
    "targets = find_bac_cab(expr)\n",
    "display(targets)\n",
    "bac_cab(expr, False, targets[1])"
   ]
  },
  {
   "cell_type": "markdown",
   "metadata": {},
   "source": [
    "Here we used the function `find_bac_cab` to easily find all the occurences, then we selected the one we were interested in substituting."
   ]
  },
  {
   "cell_type": "markdown",
   "metadata": {},
   "source": [
    "## Dot-Cross rule"
   ]
  },
  {
   "cell_type": "markdown",
   "metadata": {},
   "source": [
    "Another useful rule is:\n",
    "\n",
    "$$\n",
    "\\vec{a} \\cdot \\left(\\vec{b} \\times \\vec{c}\\right) = \\left(\\vec{a} \\times \\vec{b}\\right) \\cdot \\vec{c}\n",
    "$$\n",
    "\n",
    "To perform this substitution we can use the function `dot_cross`:"
   ]
  },
  {
   "cell_type": "code",
   "execution_count": 9,
   "metadata": {},
   "outputs": [
    {
     "data": {
      "image/png": "[encoded data removed]",
      "text/latex": [
       "$\\displaystyle \\vec{a} \\cdot \\left(\\vec{b} \\times \\vec{c}\\right) + \\vec{d} \\cdot \\left(\\vec{e} \\times \\vec{f}\\right)$"
      ],
      "text/plain": [
       "VecDot(VectorSymbol(a), VecCross(VectorSymbol(b), VectorSymbol(c))) + VecDot(V\n",
       "ectorSymbol(d), VecCross(VectorSymbol(e), VectorSymbol(f)))"
      ]
     },
     "metadata": {},
     "output_type": "display_data"
    },
    {
     "data": {
      "image/png": "[encoded data removed]",
      "text/latex": [
       "$\\displaystyle \\left(\\vec{a} \\times \\vec{b}\\right) \\cdot \\vec{c} + \\left(\\vec{d} \\times \\vec{e}\\right) \\cdot \\vec{f}$"
      ],
      "text/plain": [
       "VecDot(VecCross(VectorSymbol(a), VectorSymbol(b)), VectorSymbol(c)) + VecDot(V\n",
       "ecCross(VectorSymbol(d), VectorSymbol(e)), VectorSymbol(f))"
      ]
     },
     "metadata": {},
     "output_type": "display_data"
    }
   ],
   "source": [
    "expr = (a & (b ^ c)) + (d & (e ^ f))\n",
    "display(expr, dot_cross(expr))"
   ]
  },
  {
   "cell_type": "code",
   "execution_count": 10,
   "metadata": {},
   "outputs": [
    {
     "data": {
      "image/png": "[encoded data removed]",
      "text/latex": [
       "$\\displaystyle \\vec{a} \\cdot \\left(\\vec{b} \\times \\left(\\left(\\vec{e} \\cdot \\left(\\vec{g} \\times \\vec{h}\\right)\\right) \\vec{d} + \\vec{c}\\right)\\right)$"
      ],
      "text/plain": [
       "VecDot(VectorSymbol(a), VecCross(VectorSymbol(b), VecDot(VectorSymbol(e), VecC\n",
       "ross(VectorSymbol(g), VectorSymbol(h)))*VectorSymbol(d) + VectorSymbol(c)))"
      ]
     },
     "metadata": {},
     "output_type": "display_data"
    },
    {
     "data": {
      "image/png": "[encoded data removed]",
      "text/latex": [
       "$\\displaystyle \\left(\\vec{a} \\times \\vec{b}\\right) \\cdot \\left(\\left(\\left(\\vec{e} \\times \\vec{g}\\right) \\cdot \\vec{h}\\right) \\vec{d} + \\vec{c}\\right)$"
      ],
      "text/plain": [
       "VecDot(VecCross(VectorSymbol(a), VectorSymbol(b)), VecDot(VecCross(VectorSymbo\n",
       "l(e), VectorSymbol(g)), VectorSymbol(h))*VectorSymbol(d) + VectorSymbol(c))"
      ]
     },
     "metadata": {},
     "output_type": "display_data"
    }
   ],
   "source": [
    "expr = (a & (b ^ (c + d * (e & (g ^ h)))))\n",
    "display(expr, dot_cross(expr))"
   ]
  },
  {
   "cell_type": "markdown",
   "metadata": {},
   "source": [
    "## Expansion"
   ]
  },
  {
   "cell_type": "markdown",
   "metadata": {},
   "source": [
    "Given a vector `expr`, we can use the method `expr.expand()` to expand its arguments:"
   ]
  },
  {
   "cell_type": "code",
   "execution_count": 11,
   "metadata": {},
   "outputs": [
    {
     "data": {
      "image/png": "[encoded data removed]",
      "text/latex": [
       "$\\displaystyle \\vec{a} \\times \\left(\\left(\\vec{b} + \\vec{c}\\right) \\times \\vec{d}\\right)$"
      ],
      "text/plain": [
       "VecCross(VectorSymbol(a), VecCross(VectorSymbol(b) + VectorSymbol(c), VectorSy\n",
       "mbol(d)))"
      ]
     },
     "metadata": {},
     "output_type": "display_data"
    },
    {
     "data": {
      "image/png": "[encoded data removed]",
      "text/latex": [
       "$\\displaystyle \\vec{a} \\times \\left(\\vec{b} \\times \\vec{d}\\right) + \\vec{a} \\times \\left(\\vec{c} \\times \\vec{d}\\right)$"
      ],
      "text/plain": [
       "VecCross(VectorSymbol(a), VecCross(VectorSymbol(b), VectorSymbol(d))) + VecCro\n",
       "ss(VectorSymbol(a), VecCross(VectorSymbol(c), VectorSymbol(d)))"
      ]
     },
     "metadata": {},
     "output_type": "display_data"
    }
   ],
   "source": [
    "expr = a ^ ((b + c) ^ d)\n",
    "display(expr, expr.expand())"
   ]
  },
  {
   "cell_type": "code",
   "execution_count": 12,
   "metadata": {},
   "outputs": [
    {
     "data": {
      "image/png": "[encoded data removed]",
      "text/latex": [
       "$\\displaystyle \\left(\\vec{a} + \\vec{b}\\right) \\cdot \\left(\\vec{c} + \\vec{d}\\right)$"
      ],
      "text/plain": [
       "VecDot(VectorSymbol(a) + VectorSymbol(b), VectorSymbol(c) + VectorSymbol(d))"
      ]
     },
     "metadata": {},
     "output_type": "display_data"
    },
    {
     "data": {
      "image/png": "[encoded data removed]",
      "text/latex": [
       "$\\displaystyle \\vec{a} \\cdot \\vec{c} + \\vec{a} \\cdot \\vec{d} + \\vec{b} \\cdot \\vec{c} + \\vec{b} \\cdot \\vec{d}$"
      ],
      "text/plain": [
       "VecDot(VectorSymbol(a), VectorSymbol(c)) + VecDot(VectorSymbol(a), VectorSymbo\n",
       "l(d)) + VecDot(VectorSymbol(b), VectorSymbol(c)) + VecDot(VectorSymbol(b), Vec\n",
       "torSymbol(d))"
      ]
     },
     "metadata": {},
     "output_type": "display_data"
    }
   ],
   "source": [
    "expr = (a + b) & (c + d)\n",
    "display(expr, expr.expand())"
   ]
  },
  {
   "cell_type": "code",
   "execution_count": 13,
   "metadata": {},
   "outputs": [
    {
     "data": {
      "image/png": "[encoded data removed]",
      "text/latex": [
       "$\\displaystyle x \\left(\\left(\\left(\\vec{a} + \\vec{b}\\right) \\times \\vec{c}\\right) \\cdot \\vec{d} + \\vec{a} \\cdot \\left(\\left(\\vec{c} \\cdot \\left(\\left(\\vec{d} + \\vec{e}\\right) \\|\\vec{f}\\|\\right)\\right) \\vec{g} + \\vec{b}\\right)\\right)$"
      ],
      "text/plain": [
       "x⋅(VecDot(VecCross(VectorSymbol(a) + VectorSymbol(b), VectorSymbol(c)), Vector\n",
       "Symbol(d)) + VecDot(VectorSymbol(a), VecDot(VectorSymbol(c), (VectorSymbol(d) \n",
       "+ VectorSymbol(e))*Magnitude(VectorSymbol(f)))*VectorSymbol(g) + VectorSymbol(\n",
       "b)))"
      ]
     },
     "metadata": {},
     "output_type": "display_data"
    },
    {
     "data": {
      "image/png": "[encoded data removed]",
      "text/latex": [
       "$\\displaystyle x \\|\\vec{f}\\| \\left(\\vec{a} \\cdot \\vec{g}\\right) \\left(\\vec{c} \\cdot \\vec{d}\\right) + x \\|\\vec{f}\\| \\left(\\vec{a} \\cdot \\vec{g}\\right) \\left(\\vec{c} \\cdot \\vec{e}\\right) + x \\left(\\left(\\vec{a} \\times \\vec{c}\\right) \\cdot \\vec{d}\\right) + x \\left(\\left(\\vec{b} \\times \\vec{c}\\right) \\cdot \\vec{d}\\right) + x \\left(\\vec{a} \\cdot \\vec{b}\\right)$"
      ],
      "text/plain": [
       "x⋅Magnitude(VectorSymbol(f))⋅VecDot(VectorSymbol(a), VectorSymbol(g))⋅VecDot(V\n",
       "ectorSymbol(c), VectorSymbol(d)) + x⋅Magnitude(VectorSymbol(f))⋅VecDot(VectorS\n",
       "ymbol(a), VectorSymbol(g))⋅VecDot(VectorSymbol(c), VectorSymbol(e)) + x⋅VecDot\n",
       "(VecCross(VectorSymbol(a), VectorSymbol(c)), VectorSymbol(d)) + x⋅VecDot(VecCr\n",
       "oss(VectorSymbol(b), VectorSymbol(c)), VectorSymbol(d)) + x⋅VecDot(VectorSymbo\n",
       "l(a), VectorSymbol(b))"
      ]
     },
     "metadata": {},
     "output_type": "display_data"
    }
   ],
   "source": [
    "expr = x * ((a & (b + (c & (d + e) * f.mag) * g)) + (((a + b) ^ c) & d))\n",
    "display(expr, expr.expand())"
   ]
  },
  {
   "cell_type": "markdown",
   "metadata": {},
   "source": [
    "## Collect"
   ]
  },
  {
   "cell_type": "markdown",
   "metadata": {},
   "source": [
    "Because Sympy doesn't know what `VecDot` and `VecCross` are, the method `collect(expr, match)` has been implemented to overcome this problem.\n",
    "\n",
    "If `match` is not an instance of `VecDot, VecCross, VecPow`, then it will fall back to Sympy `collect` method.\n",
    "\n",
    "However, if `match` is an instance of `VecDot, VecCross, VecPow`, the result to be expected is very different wrt the standard collect. Let's see a few examples to understand what it produces. "
   ]
  },
  {
   "cell_type": "code",
   "execution_count": 14,
   "metadata": {},
   "outputs": [
    {
     "data": {
      "image/png": "[encoded data removed]",
      "text/latex": [
       "$\\displaystyle \\|\\vec{a}\\|^{3} \\vec{f} + \\|\\vec{a}\\|^{2} \\vec{d} + \\|\\vec{a}\\|^{2} \\vec{e} + \\|\\vec{a}\\| \\vec{b} + \\|\\vec{a}\\| \\vec{c}$"
      ],
      "text/plain": [
       "                          3                                             2     \n",
       "Magnitude(VectorSymbol(a)) ⋅VectorSymbol(f) + Magnitude(VectorSymbol(a)) ⋅Vect\n",
       "\n",
       "                                        2                                     \n",
       "orSymbol(d) + Magnitude(VectorSymbol(a)) ⋅VectorSymbol(e) + Magnitude(VectorSy\n",
       "\n",
       "                                                                     \n",
       "mbol(a))⋅VectorSymbol(b) + Magnitude(VectorSymbol(a))⋅VectorSymbol(c)"
      ]
     },
     "metadata": {},
     "output_type": "display_data"
    },
    {
     "data": {
      "image/png": "[encoded data removed]",
      "text/latex": [
       "$\\displaystyle \\left(\\vec{b} + \\vec{c}\\right) \\|\\vec{a}\\| + \\left(\\vec{d} + \\vec{e}\\right) \\|\\vec{a}\\|^{2} + \\|\\vec{a}\\|^{3} \\vec{f}$"
      ],
      "text/plain": [
       "                                                                              \n",
       "(VectorSymbol(b) + VectorSymbol(c))⋅Magnitude(VectorSymbol(a)) + (VectorSymbol\n",
       "\n",
       "                                                 2                            \n",
       "(d) + VectorSymbol(e))⋅Magnitude(VectorSymbol(a))  + Magnitude(VectorSymbol(a)\n",
       "\n",
       " 3                \n",
       ") ⋅VectorSymbol(f)"
      ]
     },
     "metadata": {},
     "output_type": "display_data"
    }
   ],
   "source": [
    "t = a.mag\n",
    "expr = t * b + t * c + t**2 * d + t**2 * e + t**3 * f\n",
    "display(expr, collect(expr, t))"
   ]
  },
  {
   "cell_type": "markdown",
   "metadata": {},
   "source": [
    "In this first example, the `match` is not an instance of `VecDot, VecCross`, so the implementation falled-back to Sympy's collect implementation and it collected common powers of `match`.\n",
    "\n",
    "The situation is very different if we try to collect a `VecDot` or `VecCross`:"
   ]
  },
  {
   "cell_type": "code",
   "execution_count": 15,
   "metadata": {},
   "outputs": [
    {
     "data": {
      "image/png": "[encoded data removed]",
      "text/latex": [
       "$\\displaystyle \\left(\\vec{a} \\cdot \\vec{b}\\right)^{3} \\vec{a} + \\left(\\vec{a} \\cdot \\vec{b}\\right)^{2} \\vec{b} + \\vec{d}$"
      ],
      "text/plain": [
       "                                        3                                     \n",
       "VecDot(VectorSymbol(a), VectorSymbol(b)) ⋅VectorSymbol(a) + VecDot(VectorSymbo\n",
       "\n",
       "                      2                                  \n",
       "l(a), VectorSymbol(b)) ⋅VectorSymbol(b) + VectorSymbol(d)"
      ]
     },
     "metadata": {},
     "output_type": "display_data"
    },
    {
     "data": {
      "image/png": "[encoded data removed]",
      "text/latex": [
       "$\\displaystyle \\left(\\left(\\vec{a} \\cdot \\vec{b}\\right)^{2} \\vec{a} + \\left(\\vec{a} \\cdot \\vec{b}\\right) \\vec{b}\\right) \\left(\\vec{a} \\cdot \\vec{b}\\right) + \\vec{d}$"
      ],
      "text/plain": [
       "⎛                                        2                                    \n",
       "⎝VecDot(VectorSymbol(a), VectorSymbol(b)) ⋅VectorSymbol(a) + VecDot(VectorSymb\n",
       "\n",
       "                                       ⎞                                      \n",
       "ol(a), VectorSymbol(b))⋅VectorSymbol(b)⎠⋅VecDot(VectorSymbol(a), VectorSymbol(\n",
       "\n",
       "                     \n",
       "b)) + VectorSymbol(d)"
      ]
     },
     "metadata": {},
     "output_type": "display_data"
    }
   ],
   "source": [
    "expr = (a * (a & b)**3) + (b * (a & b)**2) + d\n",
    "display(expr, collect(expr, a & b))"
   ]
  },
  {
   "cell_type": "markdown",
   "metadata": {},
   "source": [
    "As we can see, the current implementation doesn't collect the common powers of `match`. Instead, it collects all the terms containing `match`. Another example:"
   ]
  },
  {
   "cell_type": "code",
   "execution_count": 16,
   "metadata": {},
   "outputs": [
    {
     "data": {
      "image/png": "[encoded data removed]",
      "text/latex": [
       "$\\displaystyle \\left(\\vec{a} \\cdot \\vec{b}\\right)^{3} \\vec{a} + \\left(\\vec{a} \\cdot \\vec{b}\\right)^{2} \\vec{b} + \\left(\\vec{a} \\cdot \\vec{b}\\right) \\vec{c} + \\vec{d}$"
      ],
      "text/plain": [
       "                                        3                                     \n",
       "VecDot(VectorSymbol(a), VectorSymbol(b)) ⋅VectorSymbol(a) + VecDot(VectorSymbo\n",
       "\n",
       "                      2                                                       \n",
       "l(a), VectorSymbol(b)) ⋅VectorSymbol(b) + VecDot(VectorSymbol(a), VectorSymbol\n",
       "\n",
       "                                      \n",
       "(b))⋅VectorSymbol(c) + VectorSymbol(d)"
      ]
     },
     "metadata": {},
     "output_type": "display_data"
    },
    {
     "data": {
      "image/png": "[encoded data removed]",
      "text/latex": [
       "$\\displaystyle \\left(\\left(\\vec{a} \\cdot \\vec{b}\\right) \\vec{a} + \\vec{b}\\right) \\left(\\vec{a} \\cdot \\vec{b}\\right)^{2} + \\left(\\vec{a} \\cdot \\vec{b}\\right) \\vec{c} + \\vec{d}$"
      ],
      "text/plain": [
       "                                                                              \n",
       "(VecDot(VectorSymbol(a), VectorSymbol(b))⋅VectorSymbol(a) + VectorSymbol(b))⋅V\n",
       "\n",
       "                                       2                                      \n",
       "ecDot(VectorSymbol(a), VectorSymbol(b))  + VecDot(VectorSymbol(a), VectorSymbo\n",
       "\n",
       "                                       \n",
       "l(b))⋅VectorSymbol(c) + VectorSymbol(d)"
      ]
     },
     "metadata": {},
     "output_type": "display_data"
    }
   ],
   "source": [
    "expr = (a * (a & b)**3) + (b * (a & b)**2) + c * (a & b) + d\n",
    "display(expr, collect(expr, (a & b)**2))"
   ]
  },
  {
   "cell_type": "markdown",
   "metadata": {},
   "source": [
    "## Collect dot/cross products"
   ]
  },
  {
   "cell_type": "markdown",
   "metadata": {},
   "source": [
    "Cross and dot products are distributive over addition. For example:\n",
    "\n",
    "$$\n",
    "\\vec{a} \\times \\left(\\vec{b} + \\vec{c}\\right) = \\vec{a} \\times \\vec{b} + \\vec{a} \\times \\vec{c}\n",
    "$$\n",
    "\n",
    "and:\n",
    "\n",
    "$$\n",
    "\\vec{a} \\cdot \\left(\\vec{b} + \\vec{c}\\right) = \\vec{a} \\cdot \\vec{b} + \\vec{a} \\cdot \\vec{c}\n",
    "$$"
   ]
  },
  {
   "cell_type": "markdown",
   "metadata": {},
   "source": [
    "As we have seen, we can move from the left hand side to the righ hand side with the method `expr.expand()`. To move from the right to the left we use the method `collect_cross_dot`, which accepts the following arguments:\n",
    "* expr: the expression to modify;\n",
    "* pattern: the class to target, it can be `VecCross` or `VecDot`. Default value to `VecCross`.\n",
    "* first_arg : Boolean, default to True. If True, look for common first arguments in the instances of the class `pattern`. Otherwise, look for common second arguments.\n",
    "\n",
    "Let's see a few examples:"
   ]
  },
  {
   "cell_type": "code",
   "execution_count": 17,
   "metadata": {},
   "outputs": [
    {
     "data": {
      "image/png": "[encoded data removed]",
      "text/latex": [
       "$\\displaystyle \\vec{a} \\times \\vec{b} + \\vec{a} \\times \\vec{c} + \\vec{b} \\times \\vec{c}$"
      ],
      "text/plain": [
       "VecCross(VectorSymbol(a), VectorSymbol(b)) + VecCross(VectorSymbol(a), VectorS\n",
       "ymbol(c)) + VecCross(VectorSymbol(b), VectorSymbol(c))"
      ]
     },
     "metadata": {},
     "output_type": "display_data"
    },
    {
     "data": {
      "image/png": "[encoded data removed]",
      "text/latex": [
       "$\\displaystyle \\vec{a} \\times \\left(\\vec{b} + \\vec{c}\\right) + \\vec{b} \\times \\vec{c}$"
      ],
      "text/plain": [
       "VecCross(VectorSymbol(a), VectorSymbol(b) + VectorSymbol(c)) + VecCross(Vector\n",
       "Symbol(b), VectorSymbol(c))"
      ]
     },
     "metadata": {},
     "output_type": "display_data"
    }
   ],
   "source": [
    "expr = (a ^ b) + (a ^ c) + (b ^ c)\n",
    "display(expr, collect_cross_dot(expr))"
   ]
  },
  {
   "cell_type": "code",
   "execution_count": 18,
   "metadata": {},
   "outputs": [
    {
     "data": {
      "image/png": "[encoded data removed]",
      "text/latex": [
       "$\\displaystyle \\left(\\vec{a} + \\vec{b}\\right) \\times \\vec{c} + \\vec{a} \\times \\vec{b}$"
      ],
      "text/plain": [
       "VecCross(VectorSymbol(a) + VectorSymbol(b), VectorSymbol(c)) + VecCross(Vector\n",
       "Symbol(a), VectorSymbol(b))"
      ]
     },
     "execution_count": 18,
     "metadata": {},
     "output_type": "execute_result"
    }
   ],
   "source": [
    "collect_cross_dot(expr, VecCross, False)"
   ]
  },
  {
   "cell_type": "code",
   "execution_count": 19,
   "metadata": {},
   "outputs": [
    {
     "data": {
      "image/png": "[encoded data removed]",
      "text/latex": [
       "$\\displaystyle \\vec{a} \\times \\left(\\vec{b} \\times \\vec{c}\\right) + \\vec{a} \\times \\left(\\vec{b} \\times \\vec{d}\\right) + \\vec{a} \\times \\left(\\vec{b} \\times \\vec{e}\\right) + \\vec{a} \\times \\left(\\vec{e} \\times \\vec{d}\\right) + \\vec{b} \\times \\left(\\vec{c} \\times \\vec{d}\\right) + \\vec{b} \\times \\left(\\vec{c} \\times \\vec{e}\\right) + \\vec{c} \\times \\left(\\vec{d} \\times \\vec{e}\\right) + \\vec{c} \\times \\left(\\vec{d} \\times \\vec{f}\\right)$"
      ],
      "text/plain": [
       "VecCross(VectorSymbol(a), VecCross(VectorSymbol(b), VectorSymbol(c))) + VecCro\n",
       "ss(VectorSymbol(a), VecCross(VectorSymbol(b), VectorSymbol(d))) + VecCross(Vec\n",
       "torSymbol(a), VecCross(VectorSymbol(b), VectorSymbol(e))) + VecCross(VectorSym\n",
       "bol(a), VecCross(VectorSymbol(e), VectorSymbol(d))) + VecCross(VectorSymbol(b)\n",
       ", VecCross(VectorSymbol(c), VectorSymbol(d))) + VecCross(VectorSymbol(b), VecC\n",
       "ross(VectorSymbol(c), VectorSymbol(e))) + VecCross(VectorSymbol(c), VecCross(V\n",
       "ectorSymbol(d), VectorSymbol(e))) + VecCross(VectorSymbol(c), VecCross(VectorS\n",
       "ymbol(d), VectorSymbol(f)))"
      ]
     },
     "metadata": {},
     "output_type": "display_data"
    },
    {
     "data": {
      "image/png": "[encoded data removed]",
      "text/latex": [
       "$\\displaystyle \\vec{a} \\times \\left(\\vec{b} \\times \\left(\\vec{c} + \\vec{d} + \\vec{e}\\right) + \\vec{e} \\times \\vec{d}\\right) + \\vec{b} \\times \\left(\\vec{c} \\times \\left(\\vec{d} + \\vec{e}\\right)\\right) + \\vec{c} \\times \\left(\\vec{d} \\times \\left(\\vec{e} + \\vec{f}\\right)\\right)$"
      ],
      "text/plain": [
       "VecCross(VectorSymbol(a), VecCross(VectorSymbol(b), VectorSymbol(c) + VectorSy\n",
       "mbol(d) + VectorSymbol(e)) + VecCross(VectorSymbol(e), VectorSymbol(d))) + Vec\n",
       "Cross(VectorSymbol(b), VecCross(VectorSymbol(c), VectorSymbol(d) + VectorSymbo\n",
       "l(e))) + VecCross(VectorSymbol(c), VecCross(VectorSymbol(d), VectorSymbol(e) +\n",
       " VectorSymbol(f)))"
      ]
     },
     "metadata": {},
     "output_type": "display_data"
    }
   ],
   "source": [
    "expr = (a ^ (b ^ c)) + (a ^ (b ^ d)) + (a ^ (b ^ e)) + (a ^ (e ^ d)) + (c ^ (d ^ e)) + (c ^ (d ^ f)) + (b ^ (c ^ d)) + (b ^ (c ^ e))\n",
    "display(expr, collect_cross_dot(expr))"
   ]
  },
  {
   "cell_type": "code",
   "execution_count": 20,
   "metadata": {},
   "outputs": [
    {
     "data": {
      "image/png": "[encoded data removed]",
      "text/latex": [
       "$\\displaystyle \\vec{a} \\cdot \\left(\\vec{b} + \\vec{c}\\right) + \\vec{b} \\cdot \\vec{c}$"
      ],
      "text/plain": [
       "VecDot(VectorSymbol(a), VectorSymbol(b) + VectorSymbol(c)) + VecDot(VectorSymb\n",
       "ol(b), VectorSymbol(c))"
      ]
     },
     "execution_count": 20,
     "metadata": {},
     "output_type": "execute_result"
    }
   ],
   "source": [
    "expr = (a & b) + (a & c) + (b & c)\n",
    "collect_cross_dot(expr, VecDot)"
   ]
  },
  {
   "cell_type": "code",
   "execution_count": 21,
   "metadata": {},
   "outputs": [
    {
     "data": {
      "image/png": "[encoded data removed]",
      "text/latex": [
       "$\\displaystyle \\left(\\vec{a} + \\vec{b}\\right) \\cdot \\vec{c} + \\vec{a} \\cdot \\vec{b}$"
      ],
      "text/plain": [
       "VecDot(VectorSymbol(a) + VectorSymbol(b), VectorSymbol(c)) + VecDot(VectorSymb\n",
       "ol(a), VectorSymbol(b))"
      ]
     },
     "execution_count": 21,
     "metadata": {},
     "output_type": "execute_result"
    }
   ],
   "source": [
    "collect_cross_dot(expr, VecDot, False)"
   ]
  },
  {
   "cell_type": "markdown",
   "metadata": {},
   "source": [
    "## Simplify"
   ]
  },
  {
   "cell_type": "code",
   "execution_count": 22,
   "metadata": {},
   "outputs": [
    {
     "data": {
      "image/png": "[encoded data removed]",
      "text/latex": [
       "$\\displaystyle \\vec{a} \\cdot \\vec{a}$"
      ],
      "text/plain": [
       "VecDot(VectorSymbol(a), VectorSymbol(a))"
      ]
     },
     "execution_count": 22,
     "metadata": {},
     "output_type": "execute_result"
    }
   ],
   "source": [
    "simplify(a & a, dot_to_mag=False)"
   ]
  },
  {
   "cell_type": "markdown",
   "metadata": {},
   "source": [
    "Finally, the method `simplify(expr, **kwargs)` can be used to apply different simplification rules simultaneously. Let's see what we can do with it:"
   ]
  },
  {
   "cell_type": "code",
   "execution_count": 23,
   "metadata": {},
   "outputs": [
    {
     "name": "stdout",
     "output_type": "stream",
     "text": [
      "Help on function simplify in module vector_simplify:\n",
      "\n",
      "simplify(expr, **kwargs)\n",
      "    Apply a few simplification rules to expr.\n",
      "    \n",
      "    **kwargs:\n",
      "        dot_to_mag : Default to True.\n",
      "            a & a = a.mag**2\n",
      "        bac_cab : Default to True.\n",
      "            b * (a & c) - c * (a & b) = a ^ (b ^ c)\n",
      "        coeff: Default to True\n",
      "            (k1 * a) & (((k2 * b) & (k3 * c)) * d) = (k1 * k2 * k3) (a & ((b & c) * d))\n",
      "            (k1 * a) ^ ((k2 * b) ^ (k3 * c)) = (k1 * k2 * k3) (a ^ (b ^ c))\n",
      "        dot : Default to True\n",
      "            (a & b) + (a & c) = a & (b + c)\n",
      "            (a & b) + (c & b) = (a + c) & b\n",
      "        cross : Default to True\n",
      "            (a ^ b) + (a ^ c) = a ^ (b + c)\n",
      "            (a ^ b) + (c ^ b) = (a + c) ^ b\n",
      "\n"
     ]
    }
   ],
   "source": [
    "help(simplify)"
   ]
  },
  {
   "cell_type": "code",
   "execution_count": 24,
   "metadata": {},
   "outputs": [
    {
     "data": {
      "image/png": "[encoded data removed]",
      "text/latex": [
       "$\\displaystyle \\vec{a} \\cdot \\vec{a} + \\vec{a} \\cdot \\vec{b} + \\vec{b} \\cdot \\vec{b}$"
      ],
      "text/plain": [
       "VecDot(VectorSymbol(a), VectorSymbol(a)) + VecDot(VectorSymbol(a), VectorSymbo\n",
       "l(b)) + VecDot(VectorSymbol(b), VectorSymbol(b))"
      ]
     },
     "metadata": {},
     "output_type": "display_data"
    },
    {
     "data": {
      "image/png": "[encoded data removed]",
      "text/latex": [
       "$\\displaystyle \\|\\vec{a}\\|^{2} + \\|\\vec{b}\\|^{2} + \\vec{a} \\cdot \\vec{b}$"
      ],
      "text/plain": [
       "                          2                             2                     \n",
       "Magnitude(VectorSymbol(a))  + Magnitude(VectorSymbol(b))  + VecDot(VectorSymbo\n",
       "\n",
       "                      \n",
       "l(a), VectorSymbol(b))"
      ]
     },
     "metadata": {},
     "output_type": "display_data"
    },
    {
     "data": {
      "image/png": "[encoded data removed]",
      "text/latex": [
       "$\\displaystyle \\vec{a} \\cdot \\left(\\vec{a} + \\vec{b}\\right) + \\vec{b} \\cdot \\vec{b}$"
      ],
      "text/plain": [
       "VecDot(VectorSymbol(a), VectorSymbol(a) + VectorSymbol(b)) + VecDot(VectorSymb\n",
       "ol(b), VectorSymbol(b))"
      ]
     },
     "metadata": {},
     "output_type": "display_data"
    },
    {
     "data": {
      "image/png": "[encoded data removed]",
      "text/latex": [
       "$\\displaystyle \\vec{a} \\cdot \\vec{a} + \\vec{a} \\cdot \\vec{b} + \\vec{b} \\cdot \\vec{b}$"
      ],
      "text/plain": [
       "VecDot(VectorSymbol(a), VectorSymbol(a)) + VecDot(VectorSymbol(a), VectorSymbo\n",
       "l(b)) + VecDot(VectorSymbol(b), VectorSymbol(b))"
      ]
     },
     "metadata": {},
     "output_type": "display_data"
    }
   ],
   "source": [
    "expr = (a & a) + (b & b) + (a & b)\n",
    "display(\n",
    "    expr, \n",
    "    simplify(expr), \n",
    "    simplify(expr, dot_to_mag=False), \n",
    "    simplify(expr, dot_to_mag=False, dot=False)\n",
    ")"
   ]
  },
  {
   "cell_type": "code",
   "execution_count": 25,
   "metadata": {},
   "outputs": [
    {
     "data": {
      "image/png": "[encoded data removed]",
      "text/latex": [
       "$\\displaystyle \\left(4 \\vec{a}\\right) \\times \\left(\\left(3 \\vec{b} + 3 \\vec{c}\\right) \\times \\left(2 \\left(\\left(3 \\vec{d}\\right) \\times \\left(x \\vec{e}\\right)\\right)\\right)\\right)$"
      ],
      "text/plain": [
       "VecCross(4*VectorSymbol(a), VecCross(3*VectorSymbol(b) + 3*VectorSymbol(c), 2*\n",
       "VecCross(3*VectorSymbol(d), x*VectorSymbol(e))))"
      ]
     },
     "metadata": {},
     "output_type": "display_data"
    },
    {
     "data": {
      "image/png": "[encoded data removed]",
      "text/latex": [
       "$\\displaystyle 72 x \\left(\\vec{a} \\times \\left(\\left(\\vec{b} + \\vec{c}\\right) \\times \\left(\\vec{d} \\times \\vec{e}\\right)\\right)\\right)$"
      ],
      "text/plain": [
       "72⋅x⋅VecCross(VectorSymbol(a), VecCross(VectorSymbol(b) + VectorSymbol(c), Vec\n",
       "Cross(VectorSymbol(d), VectorSymbol(e))))"
      ]
     },
     "metadata": {},
     "output_type": "display_data"
    },
    {
     "data": {
      "image/png": "[encoded data removed]",
      "text/latex": [
       "$\\displaystyle \\left(4 \\vec{a}\\right) \\times \\left(\\left(3 \\vec{b} + 3 \\vec{c}\\right) \\times \\left(2 \\left(\\left(3 \\vec{d}\\right) \\times \\left(x \\vec{e}\\right)\\right)\\right)\\right)$"
      ],
      "text/plain": [
       "VecCross(4*VectorSymbol(a), VecCross(3*VectorSymbol(b) + 3*VectorSymbol(c), 2*\n",
       "VecCross(3*VectorSymbol(d), x*VectorSymbol(e))))"
      ]
     },
     "metadata": {},
     "output_type": "display_data"
    }
   ],
   "source": [
    "expr = 4 * a ^ ((3 * (b + c)) ^ (2 * (3 * d ^ (x * e))))\n",
    "display(\n",
    "    expr, \n",
    "    simplify(expr), \n",
    "    simplify(expr, coeff=False)\n",
    ")"
   ]
  },
  {
   "cell_type": "code",
   "execution_count": 26,
   "metadata": {},
   "outputs": [
    {
     "data": {
      "image/png": "[encoded data removed]",
      "text/latex": [
       "$\\displaystyle \\|\\vec{a}\\| \\left(\\vec{a} \\times \\left(\\vec{b} \\times \\vec{c}\\right) + \\vec{a} \\times \\left(\\vec{b} \\times \\vec{d}\\right)\\right) + \\vec{d} \\times \\vec{e} + \\vec{f} \\times \\vec{e}$"
      ],
      "text/plain": [
       "Magnitude(VectorSymbol(a))⋅(VecCross(VectorSymbol(a), VecCross(VectorSymbol(b)\n",
       ", VectorSymbol(c))) + VecCross(VectorSymbol(a), VecCross(VectorSymbol(b), Vect\n",
       "orSymbol(d)))) + VecCross(VectorSymbol(d), VectorSymbol(e)) + VecCross(VectorS\n",
       "ymbol(f), VectorSymbol(e))"
      ]
     },
     "metadata": {},
     "output_type": "display_data"
    },
    {
     "data": {
      "image/png": "[encoded data removed]",
      "text/latex": [
       "$\\displaystyle \\|\\vec{a}\\| \\left(\\vec{a} \\times \\left(\\vec{b} \\times \\left(\\vec{c} + \\vec{d}\\right)\\right)\\right) + \\left(\\vec{d} + \\vec{f}\\right) \\times \\vec{e}$"
      ],
      "text/plain": [
       "Magnitude(VectorSymbol(a))⋅VecCross(VectorSymbol(a), VecCross(VectorSymbol(b),\n",
       " VectorSymbol(c) + VectorSymbol(d))) + VecCross(VectorSymbol(d) + VectorSymbol\n",
       "(f), VectorSymbol(e))"
      ]
     },
     "metadata": {},
     "output_type": "display_data"
    },
    {
     "data": {
      "image/png": "[encoded data removed]",
      "text/latex": [
       "$\\displaystyle \\|\\vec{a}\\| \\left(\\vec{a} \\times \\left(\\vec{b} \\times \\vec{c}\\right) + \\vec{a} \\times \\left(\\vec{b} \\times \\vec{d}\\right)\\right) + \\vec{d} \\times \\vec{e} + \\vec{f} \\times \\vec{e}$"
      ],
      "text/plain": [
       "Magnitude(VectorSymbol(a))⋅(VecCross(VectorSymbol(a), VecCross(VectorSymbol(b)\n",
       ", VectorSymbol(c))) + VecCross(VectorSymbol(a), VecCross(VectorSymbol(b), Vect\n",
       "orSymbol(d)))) + VecCross(VectorSymbol(d), VectorSymbol(e)) + VecCross(VectorS\n",
       "ymbol(f), VectorSymbol(e))"
      ]
     },
     "metadata": {},
     "output_type": "display_data"
    }
   ],
   "source": [
    "expr = a.mag * ((a ^ (b ^ c)) + (a ^ (b ^ d))) + (d ^ e) + (f ^ e)\n",
    "display(\n",
    "    expr,\n",
    "    simplify(expr),\n",
    "    simplify(expr, cross=False)\n",
    ")"
   ]
  },
  {
   "cell_type": "code",
   "execution_count": 27,
   "metadata": {},
   "outputs": [
    {
     "data": {
      "image/png": "[encoded data removed]",
      "text/latex": [
       "$\\displaystyle - \\left(\\vec{a} \\cdot \\vec{b}\\right) \\vec{c} + \\left(\\vec{a} \\cdot \\vec{c}\\right) \\vec{b} + \\vec{e} \\times \\left(\\vec{b} \\times \\vec{c}\\right)$"
      ],
      "text/plain": [
       "-VecDot(VectorSymbol(a), VectorSymbol(b))⋅VectorSymbol(c) + VecDot(VectorSymbo\n",
       "l(a), VectorSymbol(c))⋅VectorSymbol(b) + VecCross(VectorSymbol(e), VecCross(Ve\n",
       "ctorSymbol(b), VectorSymbol(c)))"
      ]
     },
     "metadata": {},
     "output_type": "display_data"
    },
    {
     "data": {
      "image/png": "[encoded data removed]",
      "text/latex": [
       "$\\displaystyle \\left(\\vec{a} + \\vec{e}\\right) \\times \\left(\\vec{b} \\times \\vec{c}\\right)$"
      ],
      "text/plain": [
       "VecCross(VectorSymbol(a) + VectorSymbol(e), VecCross(VectorSymbol(b), VectorSy\n",
       "mbol(c)))"
      ]
     },
     "metadata": {},
     "output_type": "display_data"
    },
    {
     "data": {
      "image/png": "[encoded data removed]",
      "text/latex": [
       "$\\displaystyle \\vec{a} \\times \\left(\\vec{b} \\times \\vec{c}\\right) + \\vec{e} \\times \\left(\\vec{b} \\times \\vec{c}\\right)$"
      ],
      "text/plain": [
       "VecCross(VectorSymbol(a), VecCross(VectorSymbol(b), VectorSymbol(c))) + VecCro\n",
       "ss(VectorSymbol(e), VecCross(VectorSymbol(b), VectorSymbol(c)))"
      ]
     },
     "metadata": {},
     "output_type": "display_data"
    }
   ],
   "source": [
    "expr = b * (a & c) - c * (a & b) + (e ^ (b ^ c))\n",
    "display(\n",
    "    expr,\n",
    "    simplify(expr),\n",
    "    simplify(expr, cross=False)\n",
    ")"
   ]
  },
  {
   "cell_type": "markdown",
   "metadata": {},
   "source": [
    "# Identities"
   ]
  },
  {
   "cell_type": "markdown",
   "metadata": {},
   "source": [
    "To apply one of the following identities, use the method `identities(expr, **hints)` providing the appropriate hints:\n",
    "\n",
    "$$\n",
    "\\begin{aligned}\n",
    "& \\nabla \\cdot \\left(\\phi \\vec{a}\\right) = \\phi \\left(\\nabla \\cdot \\vec{a}\\right) + \\left(\\nabla \\phi\\right) \\cdot \\vec{a} \\\\\n",
    "& \\nabla \\times \\left(\\phi \\vec{a}\\right) = \\phi \\left(\\nabla \\times \\vec{a}\\right) + \\left(\\nabla \\phi\\right) \\times \\vec{a} \\\\\n",
    "& \\nabla \\cdot \\left(\\vec{a} \\times \\vec{b}\\right) = \\left(\\nabla \\times \\vec{a}\\right) \\cdot \\vec{b} - \\left(\\nabla \\times \\vec{b}\\right) \\cdot \\vec{a} \\\\\n",
    "& \\nabla \\times \\left(\\vec{a} \\times \\vec{b}\\right) = - \\left(\\nabla \\cdot \\vec{a}\\right) \\vec{b} + \\left(\\nabla \\cdot \\vec{b}\\right) \\vec{a} - \\left(\\vec{a} \\cdot \\nabla\\right)\\vec{b} + \\left(\\vec{b} \\cdot \\nabla\\right)\\vec{a} \\\\\n",
    "& \\nabla \\left(\\vec{a} \\cdot \\vec{b}\\right) = \\left(\\vec{a} \\cdot \\nabla\\right)\\vec{b} + \\left(\\vec{b} \\cdot \\nabla\\right)\\vec{a} + \\vec{a} \\times \\left(\\nabla \\times \\vec{b}\\right) + \\vec{b} \\times \\left(\\nabla \\times \\vec{a}\\right) \\\\\n",
    "& \\nabla \\times \\left(\\nabla \\times \\vec{a}\\right) = \\nabla \\left(\\nabla \\cdot \\vec{a}\\right) - \\nabla^{2} \\vec{a} \\\\\n",
    "\\end{aligned}\n",
    "$$"
   ]
  },
  {
   "cell_type": "code",
   "execution_count": 28,
   "metadata": {},
   "outputs": [
    {
     "name": "stdout",
     "output_type": "stream",
     "text": [
      "Help on function identities in module vector_simplify:\n",
      "\n",
      "identities(expr, **hints)\n",
      "    Apply to expr the identities specified in **hints.\n",
      "    \n",
      "    In the following, w is scalar, wa/wb are vectors.\n",
      "    \n",
      "    Hints: set a flag to True to apply the identity. By default all\n",
      "    flags are set to False.\n",
      "    \n",
      "        prod_div = True\n",
      "            nabla & (w * wa) = (Grad(w) & wa) + (w * (nabla & wa))\n",
      "        \n",
      "        prod_curl = True\n",
      "            nabla ^ (w * wa) = (Grad(w) ^ wa) + (w * (nabla ^ wa))\n",
      "        \n",
      "        div_of_cross = True\n",
      "            nabla & (wa ^ wb) = ((nabla ^ wa) & wb) - ((nabla ^ wb) & wa)\n",
      "        \n",
      "        curl_of_cross = True\n",
      "            nabla ^ (wa ^ wb) = ((nabla & wb) * wa) + DotNablaOp(wb, wa) - ((nabla & wa) * wb) - DotNablaOp(wa, wb)\n",
      "        \n",
      "        grad_of_dot = True\n",
      "            Grad(wa & wb) = DotNablaOp(wa, wb) + DotNablaOp(wb, wa) + (wa ^ (nabla ^ wb)) + (wb ^ (nabla ^ wa))\n",
      "        \n",
      "        curl_of_grad = True\n",
      "            nabla ^ Grad(w) = VectorZero()\n",
      "    \n",
      "        div_of_curl = True\n",
      "            nabla & (nabla ^ wa) = S.Zero\n",
      "    \n",
      "        curl_of_curl = True\n",
      "            nabla ^ (nabla ^ wa) = Grad(nabla & wa) - Laplace(wa)\n",
      "\n"
     ]
    }
   ],
   "source": [
    "help(identities)"
   ]
  },
  {
   "cell_type": "markdown",
   "metadata": {},
   "source": [
    "For example:"
   ]
  },
  {
   "cell_type": "code",
   "execution_count": 29,
   "metadata": {},
   "outputs": [
    {
     "data": {
      "image/png": "[encoded data removed]",
      "text/latex": [
       "$\\displaystyle \\nabla \\left(\\vec{b} \\cdot \\vec{c}\\right) + \\nabla \\times \\left(x \\vec{a}\\right) + \\vec{e} \\times \\left(\\vec{f} \\times \\vec{g}\\right)$"
      ],
      "text/plain": [
       "Grad(Nabla(\\nabla), VecDot(VectorSymbol(b), VectorSymbol(c))) + VecCross(Nabla\n",
       "(\\nabla), x*VectorSymbol(a)) + VecCross(VectorSymbol(e), VecCross(VectorSymbol\n",
       "(f), VectorSymbol(g)))"
      ]
     },
     "execution_count": 29,
     "metadata": {},
     "output_type": "execute_result"
    }
   ],
   "source": [
    "nabla = Nabla()\n",
    "expr = (nabla ^ (x * a)) + Grad(b & c) + (e ^ (f ^ g))\n",
    "expr"
   ]
  },
  {
   "cell_type": "code",
   "execution_count": 30,
   "metadata": {},
   "outputs": [
    {
     "data": {
      "image/png": "[encoded data removed]",
      "text/latex": [
       "$\\displaystyle x \\left(\\nabla \\times \\vec{a}\\right) + \\nabla \\left(\\vec{b} \\cdot \\vec{c}\\right) + \\left(\\nabla x\\right) \\times \\vec{a} + \\vec{e} \\times \\left(\\vec{f} \\times \\vec{g}\\right)$"
      ],
      "text/plain": [
       "x⋅VecCross(Nabla(\\nabla), VectorSymbol(a)) + Grad(Nabla(\\nabla), VecDot(Vector\n",
       "Symbol(b), VectorSymbol(c))) + VecCross(Grad(Nabla(\\nabla), x), VectorSymbol(a\n",
       ")) + VecCross(VectorSymbol(e), VecCross(VectorSymbol(f), VectorSymbol(g)))"
      ]
     },
     "execution_count": 30,
     "metadata": {},
     "output_type": "execute_result"
    }
   ],
   "source": [
    "identities(expr, prod_curl=True)"
   ]
  },
  {
   "cell_type": "code",
   "execution_count": 31,
   "metadata": {},
   "outputs": [
    {
     "data": {
      "image/png": "[encoded data removed]",
      "text/latex": [
       "$\\displaystyle \\left(\\vec{b} \\cdot \\nabla\\right)\\vec{c} + \\left(\\vec{c} \\cdot \\nabla\\right)\\vec{b} + \\nabla \\times \\left(x \\vec{a}\\right) + \\vec{b} \\times \\left(\\nabla \\times \\vec{c}\\right) + \\vec{c} \\times \\left(\\nabla \\times \\vec{b}\\right) + \\vec{e} \\times \\left(\\vec{f} \\times \\vec{g}\\right)$"
      ],
      "text/plain": [
       "DotNablaOp(VectorSymbol(b), VectorSymbol(c), Nabla(\\nabla)) + DotNablaOp(Vecto\n",
       "rSymbol(c), VectorSymbol(b), Nabla(\\nabla)) + VecCross(Nabla(\\nabla), x*Vector\n",
       "Symbol(a)) + VecCross(VectorSymbol(b), VecCross(Nabla(\\nabla), VectorSymbol(c)\n",
       ")) + VecCross(VectorSymbol(c), VecCross(Nabla(\\nabla), VectorSymbol(b))) + Vec\n",
       "Cross(VectorSymbol(e), VecCross(VectorSymbol(f), VectorSymbol(g)))"
      ]
     },
     "execution_count": 31,
     "metadata": {},
     "output_type": "execute_result"
    }
   ],
   "source": [
    "identities(expr, grad_of_dot=True)"
   ]
  },
  {
   "cell_type": "code",
   "execution_count": 32,
   "metadata": {},
   "outputs": [
    {
     "data": {
      "image/png": "[encoded data removed]",
      "text/latex": [
       "$\\displaystyle x \\left(\\nabla \\times \\vec{a}\\right) + \\left(\\vec{b} \\cdot \\nabla\\right)\\vec{c} + \\left(\\vec{c} \\cdot \\nabla\\right)\\vec{b} + \\left(\\nabla x\\right) \\times \\vec{a} + \\vec{b} \\times \\left(\\nabla \\times \\vec{c}\\right) + \\vec{c} \\times \\left(\\nabla \\times \\vec{b}\\right) + \\vec{e} \\times \\left(\\vec{f} \\times \\vec{g}\\right)$"
      ],
      "text/plain": [
       "x⋅VecCross(Nabla(\\nabla), VectorSymbol(a)) + DotNablaOp(VectorSymbol(b), Vecto\n",
       "rSymbol(c), Nabla(\\nabla)) + DotNablaOp(VectorSymbol(c), VectorSymbol(b), Nabl\n",
       "a(\\nabla)) + VecCross(Grad(Nabla(\\nabla), x), VectorSymbol(a)) + VecCross(Vect\n",
       "orSymbol(b), VecCross(Nabla(\\nabla), VectorSymbol(c))) + VecCross(VectorSymbol\n",
       "(c), VecCross(Nabla(\\nabla), VectorSymbol(b))) + VecCross(VectorSymbol(e), Vec\n",
       "Cross(VectorSymbol(f), VectorSymbol(g)))"
      ]
     },
     "execution_count": 32,
     "metadata": {},
     "output_type": "execute_result"
    }
   ],
   "source": [
    "identities(expr, prod_curl=True, grad_of_dot=True)"
   ]
  },
  {
   "cell_type": "code",
   "execution_count": null,
   "metadata": {},
   "outputs": [],
   "source": []
  }
 ],
 "metadata": {
  "kernelspec": {
   "display_name": "Python 3",
   "language": "python",
   "name": "python3"
  },
  "language_info": {
   "codemirror_mode": {
    "name": "ipython",
    "version": 3
   },
   "file_extension": ".py",
   "mimetype": "text/x-python",
   "name": "python",
   "nbconvert_exporter": "python",
   "pygments_lexer": "ipython3",
   "version": "3.7.5"
  },
  "toc": {
   "base_numbering": 1,
   "nav_menu": {},
   "number_sections": true,
   "sideBar": true,
   "skip_h1_title": false,
   "title_cell": "Table of Contents",
   "title_sidebar": "Contents",
   "toc_cell": false,
   "toc_position": {},
   "toc_section_display": true,
   "toc_window_display": false
  }
 },
 "nbformat": 4,
 "nbformat_minor": 2
}
