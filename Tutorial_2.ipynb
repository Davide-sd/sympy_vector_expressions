{
 "cells": [
  {
   "cell_type": "markdown",
   "metadata": {},
   "source": [
    "# Derivatives of Vector Expressions"
   ]
  },
  {
   "cell_type": "code",
   "execution_count": 1,
   "metadata": {},
   "outputs": [],
   "source": [
    "import sympy as sp\n",
    "# need to import the custom function to print vectors\n",
    "from vector_expr_printing import vector_latex\n",
    "# starting point of a vector expression is a vector symbol\n",
    "from vector_expr import VectorSymbol, VectorExpr\n",
    "# also import symbolic vectors\n",
    "from sympy.vector import CoordSys3D, Vector\n",
    "# setting the printer to use latex_vector function\n",
    "from sympy.interactive import printing\n",
    "printing.init_printing(latex_printer=vector_latex)"
   ]
  },
  {
   "cell_type": "code",
   "execution_count": 2,
   "metadata": {},
   "outputs": [],
   "source": [
    "v1 = VectorSymbol(\"v_1\")\n",
    "v2 = VectorSymbol(\"v_2\")\n",
    "nabla = sp.S.Nabla\n",
    "zero = sp.S.VectorZero\n",
    "one = sp.S.VectorOne\n",
    "x, y = sp.symbols(\"x, y\")"
   ]
  },
  {
   "cell_type": "markdown",
   "metadata": {},
   "source": [
    "## Usage"
   ]
  },
  {
   "cell_type": "markdown",
   "metadata": {},
   "source": [
    "To take derivatives of vector expressions we use the method `diff`:"
   ]
  },
  {
   "cell_type": "code",
   "execution_count": 3,
   "metadata": {},
   "outputs": [
    {
     "data": {
      "image/png": "[encoded data removed]",
      "text/latex": [
       "$\\displaystyle \\frac{d}{d x} \\left(\\vec{v}_{1}\\right) + \\frac{d}{d x} \\left(\\vec{v}_{2}\\right)$"
      ],
      "text/plain": [
       "VecAdd(D(Derivative(VectorSymbol(v_1), x)), D(Derivative(VectorSymbol(v_2), x)\n",
       "))"
      ]
     },
     "metadata": {},
     "output_type": "display_data"
    },
    {
     "data": {
      "text/plain": [
       "vector_expr.VecAdd"
      ]
     },
     "metadata": {},
     "output_type": "display_data"
    }
   ],
   "source": [
    "expr = v1 + v2 + one\n",
    "d = expr.diff(x)\n",
    "display(d, type(d))"
   ]
  },
  {
   "cell_type": "code",
   "execution_count": 4,
   "metadata": {},
   "outputs": [
    {
     "data": {
      "image/png": "[encoded data removed]",
      "text/latex": [
       "$\\displaystyle \\frac{d}{d x} \\left(\\vec{v}_{1} + \\vec{v}_{2} + \\vec{1}\\right)$"
      ],
      "text/plain": [
       "D(Derivative(VecAdd(VecAdd(VectorSymbol(v_1), VectorSymbol(v_2)), VectorOne(1)\n",
       "), x))"
      ]
     },
     "metadata": {},
     "output_type": "display_data"
    },
    {
     "data": {
      "text/plain": [
       "vector_expr.D"
      ]
     },
     "metadata": {},
     "output_type": "display_data"
    }
   ],
   "source": [
    "d = expr.diff(x, evaluate=False)\n",
    "display(d, type(d))"
   ]
  },
  {
   "cell_type": "markdown",
   "metadata": {},
   "source": [
    "As we can see, the unevaluated derivative is wrapped in the class `D`. Look at the code to understand the logic behind it. This also holds true for `VectorSymbol` derivatives:"
   ]
  },
  {
   "cell_type": "code",
   "execution_count": 5,
   "metadata": {},
   "outputs": [
    {
     "data": {
      "image/png": "[encoded data removed]",
      "text/latex": [
       "$\\displaystyle \\frac{d}{d x} \\left(\\vec{v}_{1}\\right)$"
      ],
      "text/plain": [
       "D(Derivative(VectorSymbol(v_1), x))"
      ]
     },
     "metadata": {},
     "output_type": "display_data"
    },
    {
     "data": {
      "text/plain": [
       "vector_expr.D"
      ]
     },
     "metadata": {},
     "output_type": "display_data"
    }
   ],
   "source": [
    "d = v1.diff(x)\n",
    "display(d, type(d))"
   ]
  },
  {
   "cell_type": "code",
   "execution_count": 6,
   "metadata": {},
   "outputs": [
    {
     "data": {
      "image/png": "[encoded data removed]",
      "text/latex": [
       "$\\displaystyle \\left( \\vec{0}, \\  \\vec{0}\\right)$"
      ],
      "text/plain": [
       "(VectorZero(0), VectorZero(0))"
      ]
     },
     "execution_count": 6,
     "metadata": {},
     "output_type": "execute_result"
    }
   ],
   "source": [
    "one.diff(x), zero.diff(x)"
   ]
  },
  {
   "cell_type": "markdown",
   "metadata": {},
   "source": [
    "Note that derivatives of *del* operator are not supported:"
   ]
  },
  {
   "cell_type": "code",
   "execution_count": 7,
   "metadata": {},
   "outputs": [
    {
     "ename": "NotImplementedError",
     "evalue": "Differentiation of nabla operator not implemented.",
     "output_type": "error",
     "traceback": [
      "\u001b[0;31m---------------------------------------------------------------------------\u001b[0m",
      "\u001b[0;31mNotImplementedError\u001b[0m                       Traceback (most recent call last)",
      "\u001b[0;32m<ipython-input-7-85dd6393b1be>\u001b[0m in \u001b[0;36m<module>\u001b[0;34m\u001b[0m\n\u001b[0;32m----> 1\u001b[0;31m \u001b[0mnabla\u001b[0m\u001b[0;34m.\u001b[0m\u001b[0mdiff\u001b[0m\u001b[0;34m(\u001b[0m\u001b[0mx\u001b[0m\u001b[0;34m)\u001b[0m\u001b[0;34m\u001b[0m\u001b[0;34m\u001b[0m\u001b[0m\n\u001b[0m",
      "\u001b[0;32m~/Documents/Development/Propulsion/Nuclear Thermal Rocket/Sympy-Book/vector_expressions/vector_expr.py\u001b[0m in \u001b[0;36mdiff\u001b[0;34m(self, *symbols, **assumptions)\u001b[0m\n\u001b[1;32m    239\u001b[0m \u001b[0;34m\u001b[0m\u001b[0m\n\u001b[1;32m    240\u001b[0m     \u001b[0;32mdef\u001b[0m \u001b[0mdiff\u001b[0m\u001b[0;34m(\u001b[0m\u001b[0mself\u001b[0m\u001b[0;34m,\u001b[0m \u001b[0;34m*\u001b[0m\u001b[0msymbols\u001b[0m\u001b[0;34m,\u001b[0m \u001b[0;34m**\u001b[0m\u001b[0massumptions\u001b[0m\u001b[0;34m)\u001b[0m\u001b[0;34m:\u001b[0m\u001b[0;34m\u001b[0m\u001b[0;34m\u001b[0m\u001b[0m\n\u001b[0;32m--> 241\u001b[0;31m         \u001b[0;32mraise\u001b[0m \u001b[0mNotImplementedError\u001b[0m\u001b[0;34m(\u001b[0m\u001b[0;34m\"Differentiation of nabla operator not implemented.\"\u001b[0m\u001b[0;34m)\u001b[0m\u001b[0;34m\u001b[0m\u001b[0;34m\u001b[0m\u001b[0m\n\u001b[0m\u001b[1;32m    242\u001b[0m \u001b[0;34m\u001b[0m\u001b[0m\n\u001b[1;32m    243\u001b[0m \u001b[0;32mclass\u001b[0m \u001b[0mNormalize\u001b[0m\u001b[0;34m(\u001b[0m\u001b[0mVectorExpr\u001b[0m\u001b[0;34m)\u001b[0m\u001b[0;34m:\u001b[0m\u001b[0;34m\u001b[0m\u001b[0;34m\u001b[0m\u001b[0m\n",
      "\u001b[0;31mNotImplementedError\u001b[0m: Differentiation of nabla operator not implemented."
     ]
    }
   ],
   "source": [
    "nabla.diff(x)"
   ]
  },
  {
   "cell_type": "markdown",
   "metadata": {},
   "source": [
    "Also note that partial differentiation is not implemented:"
   ]
  },
  {
   "cell_type": "code",
   "execution_count": 8,
   "metadata": {},
   "outputs": [
    {
     "ename": "NotImplementedError",
     "evalue": "Vector differentiation with multiple variables not implemented",
     "output_type": "error",
     "traceback": [
      "\u001b[0;31m---------------------------------------------------------------------------\u001b[0m",
      "\u001b[0;31mNotImplementedError\u001b[0m                       Traceback (most recent call last)",
      "\u001b[0;32m<ipython-input-8-d401f0a16b33>\u001b[0m in \u001b[0;36m<module>\u001b[0;34m\u001b[0m\n\u001b[0;32m----> 1\u001b[0;31m \u001b[0mexpr\u001b[0m\u001b[0;34m.\u001b[0m\u001b[0mdiff\u001b[0m\u001b[0;34m(\u001b[0m\u001b[0mx\u001b[0m\u001b[0;34m,\u001b[0m \u001b[0my\u001b[0m\u001b[0;34m)\u001b[0m\u001b[0;34m\u001b[0m\u001b[0;34m\u001b[0m\u001b[0m\n\u001b[0m",
      "\u001b[0;32m~/Documents/Development/Propulsion/Nuclear Thermal Rocket/Sympy-Book/vector_expressions/vector_expr.py\u001b[0m in \u001b[0;36mdiff\u001b[0;34m(self, *symbols, **assumptions)\u001b[0m\n\u001b[1;32m    137\u001b[0m             \u001b[0;32mreturn\u001b[0m \u001b[0mself\u001b[0m\u001b[0;34m\u001b[0m\u001b[0;34m\u001b[0m\u001b[0m\n\u001b[1;32m    138\u001b[0m         \u001b[0;32melif\u001b[0m \u001b[0mlen\u001b[0m\u001b[0;34m(\u001b[0m\u001b[0md\u001b[0m\u001b[0;34m.\u001b[0m\u001b[0mvariable_count\u001b[0m\u001b[0;34m)\u001b[0m \u001b[0;34m>\u001b[0m \u001b[0;36m1\u001b[0m\u001b[0;34m:\u001b[0m\u001b[0;34m\u001b[0m\u001b[0;34m\u001b[0m\u001b[0m\n\u001b[0;32m--> 139\u001b[0;31m             \u001b[0;32mraise\u001b[0m \u001b[0mNotImplementedError\u001b[0m\u001b[0;34m(\u001b[0m\u001b[0;34m\"Vector differentiation with multiple variables not implemented\"\u001b[0m\u001b[0;34m)\u001b[0m\u001b[0;34m\u001b[0m\u001b[0;34m\u001b[0m\u001b[0m\n\u001b[0m\u001b[1;32m    140\u001b[0m         \u001b[0;32mreturn\u001b[0m \u001b[0mD\u001b[0m\u001b[0;34m(\u001b[0m\u001b[0msp\u001b[0m\u001b[0;34m.\u001b[0m\u001b[0mDerivative\u001b[0m\u001b[0;34m(\u001b[0m\u001b[0mself\u001b[0m\u001b[0;34m,\u001b[0m \u001b[0;34m*\u001b[0m\u001b[0msymbols\u001b[0m\u001b[0;34m,\u001b[0m \u001b[0;34m**\u001b[0m\u001b[0massumptions\u001b[0m\u001b[0;34m)\u001b[0m\u001b[0;34m)\u001b[0m\u001b[0;34m\u001b[0m\u001b[0;34m\u001b[0m\u001b[0m\n\u001b[1;32m    141\u001b[0m \u001b[0;34m\u001b[0m\u001b[0m\n",
      "\u001b[0;31mNotImplementedError\u001b[0m: Vector differentiation with multiple variables not implemented"
     ]
    }
   ],
   "source": [
    "expr.diff(x, y)"
   ]
  },
  {
   "cell_type": "markdown",
   "metadata": {},
   "source": [
    "More examples. Cross product derivative:"
   ]
  },
  {
   "cell_type": "code",
   "execution_count": 9,
   "metadata": {},
   "outputs": [
    {
     "data": {
      "image/png": "[encoded data removed]",
      "text/latex": [
       "$\\displaystyle \\frac{d}{d x} \\left(\\vec{v}_{1}\\right) \\times \\vec{v}_{2} + \\vec{v}_{1} \\times \\frac{d}{d x} \\left(\\vec{v}_{2}\\right)$"
      ],
      "text/plain": [
       "VecAdd(VecCross(D(Derivative(VectorSymbol(v_1), x)), VectorSymbol(v_2)), VecCr\n",
       "oss(VectorSymbol(v_1), D(Derivative(VectorSymbol(v_2), x))))"
      ]
     },
     "execution_count": 9,
     "metadata": {},
     "output_type": "execute_result"
    }
   ],
   "source": [
    "(v1 ^ v2).diff(x)"
   ]
  },
  {
   "cell_type": "markdown",
   "metadata": {},
   "source": [
    "Dot product derivative:"
   ]
  },
  {
   "cell_type": "code",
   "execution_count": 10,
   "metadata": {},
   "outputs": [
    {
     "data": {
      "image/png": "[encoded data removed]",
      "text/latex": [
       "$\\displaystyle \\frac{d}{d x} \\left(\\vec{v}_{1}\\right) \\cdot \\vec{v}_{2} + \\vec{v}_{1} \\cdot \\frac{d}{d x} \\left(\\vec{v}_{2}\\right)$"
      ],
      "text/plain": [
       "VecAdd(VecDot(D(Derivative(VectorSymbol(v_1), x)), VectorSymbol(v_2)), VecDot(\n",
       "VectorSymbol(v_1), D(Derivative(VectorSymbol(v_2), x))))"
      ]
     },
     "execution_count": 10,
     "metadata": {},
     "output_type": "execute_result"
    }
   ],
   "source": [
    "(v1 & v2).diff(x)"
   ]
  },
  {
   "cell_type": "markdown",
   "metadata": {},
   "source": [
    "Derivative of products:"
   ]
  },
  {
   "cell_type": "code",
   "execution_count": 11,
   "metadata": {},
   "outputs": [
    {
     "data": {
      "image/png": "[encoded data removed]",
      "text/latex": [
       "$\\displaystyle x^{2} \\frac{d}{d x} \\left(\\vec{v}_{1}\\right) + 2 x \\vec{v}_{1}$"
      ],
      "text/plain": [
       "VecAdd(x**2*D(Derivative(VectorSymbol(v_1), x)), 2*x*VectorSymbol(v_1))"
      ]
     },
     "execution_count": 11,
     "metadata": {},
     "output_type": "execute_result"
    }
   ],
   "source": [
    "(v1 * x**2).diff(x)"
   ]
  },
  {
   "cell_type": "markdown",
   "metadata": {},
   "source": [
    "Derivative of powers (remember that division is achieved with with `VecPow`):"
   ]
  },
  {
   "cell_type": "code",
   "execution_count": 12,
   "metadata": {},
   "outputs": [
    {
     "data": {
      "image/png": "[encoded data removed]",
      "text/latex": [
       "$\\displaystyle - \\frac{1}{\\|\\vec{v}_{1}\\|}^{2} \\frac{d}{d x} \\left(\\|\\vec{v}_{1}\\|\\right) \\vec{v}_{1} + \\frac{d}{d x} \\left(\\vec{v}_{1}\\right) \\frac{1}{\\|\\vec{v}_{1}\\|}$"
      ],
      "text/plain": [
       "VecAdd(D(Derivative(VectorSymbol(v_1), x))*VecPow(Magnitude(VectorSymbol(v_1))\n",
       ", -1), -D(Derivative(Magnitude(VectorSymbol(v_1)), x))*VecPow(Magnitude(Vector\n",
       "Symbol(v_1)), -1)**2*VectorSymbol(v_1))"
      ]
     },
     "execution_count": 12,
     "metadata": {},
     "output_type": "execute_result"
    }
   ],
   "source": [
    "(v1 / v1.mag).diff(x)"
   ]
  },
  {
   "cell_type": "code",
   "execution_count": 13,
   "metadata": {},
   "outputs": [
    {
     "data": {
      "image/png": "[encoded data removed]",
      "text/latex": [
       "$\\displaystyle 3 \\frac{d}{d x} \\left(\\|\\vec{v}_{1}\\|\\right) \\frac{1}{\\|\\vec{v}_{1}\\|} \\left(\\|\\vec{v}_{1}\\|\\right)^{3}$"
      ],
      "text/plain": [
       "3⋅D(Derivative(Magnitude(VectorSymbol(v_1)), x))⋅VecPow(Magnitude(VectorSymbol\n",
       "(v_1)), -1)⋅VecPow(Magnitude(VectorSymbol(v_1)), 3)"
      ]
     },
     "execution_count": 13,
     "metadata": {},
     "output_type": "execute_result"
    }
   ],
   "source": [
    "(v1.mag**3).diff(x)"
   ]
  },
  {
   "cell_type": "markdown",
   "metadata": {},
   "source": [
    "A general example:"
   ]
  },
  {
   "cell_type": "code",
   "execution_count": 14,
   "metadata": {},
   "outputs": [
    {
     "data": {
      "image/png": "[encoded data removed]",
      "text/latex": [
       "$\\displaystyle \\frac{d^{2}}{d x^{2}} \\left(\\vec{v}_{1}\\right) + \\frac{d}{d x} \\left(\\|\\vec{v}_{2}\\|\\right) \\frac{d}{d x} \\left(\\vec{v}_{1}\\right) \\times \\vec{1} + \\frac{d^{2}}{d x^{2}} \\left(\\|\\vec{v}_{2}\\|\\right) \\vec{v}_{1} \\times \\vec{1} + \\frac{d}{d x} \\left(\\|\\vec{v}_{2}\\|\\right) \\frac{d}{d x} \\left(\\vec{v}_{1}\\right) \\times \\vec{1} + \\|\\vec{v}_{2}\\| \\frac{d^{2}}{d x^{2}} \\left(\\vec{v}_{1}\\right) \\times \\vec{1}$"
      ],
      "text/plain": [
       "VecAdd(D(Derivative(VectorSymbol(v_1), (x, 2))), VecAdd(VecAdd(D(Derivative(Ma\n",
       "gnitude(VectorSymbol(v_2)), x))*VecCross(D(Derivative(VectorSymbol(v_1), x)), \n",
       "VectorOne(1)), D(Derivative(Magnitude(VectorSymbol(v_2)), (x, 2)))*VecCross(Ve\n",
       "ctorSymbol(v_1), VectorOne(1))), VecAdd(D(Derivative(Magnitude(VectorSymbol(v_\n",
       "2)), x))*VecCross(D(Derivative(VectorSymbol(v_1), x)), VectorOne(1)), Magnitud\n",
       "e(VectorSymbol(v_2))*VecCross(D(Derivative(VectorSymbol(v_1), (x, 2))), Vector\n",
       "One(1)))))"
      ]
     },
     "execution_count": 14,
     "metadata": {},
     "output_type": "execute_result"
    }
   ],
   "source": [
    "(v1 + (v1 ^ one) * v2.mag).diff(x, 2)"
   ]
  },
  {
   "cell_type": "markdown",
   "metadata": {},
   "source": [
    "## Implementation Details"
   ]
  },
  {
   "cell_type": "markdown",
   "metadata": {},
   "source": [
    "### The class `D`\n",
    "As we have seen above, the unevaluated derivatives are wrapped by the class `D`. This is necessary because, even if the class `Derivative` has the property `is_Vector`, it doesn't *inherit* the value from its expression. So, if `v1` is a vector (which does have the property `is_Vector=True`), it follows that `sp.Derivative(v1, x)` will have the property `is_Vector=False`. This is bad because the next operations may require the the operand to be a vector (think about dot and cross product).\n",
    "\n",
    "As of Sympy version 1.5.1, it is possible to set the property `is_Vector` of an instance of the class `Derivative` after its creation, however I believe it to be a bug because the same is not possible with the class `Add` or `Mul`, stating that `is_Vector` is a read-only property.\n",
    "\n",
    "The solution to this problem comes by wrapping the unevaluated derivative with a class that we can actually control, setting its property `is_Vector` depending on the value of its expression.\n",
    "\n",
    "### The class `VecAdd`\n",
    "At this moment `VecAdd` doesn't inherith from `Add`, as such the arguments are not processed to simplify the expression. For example:"
   ]
  },
  {
   "cell_type": "code",
   "execution_count": 15,
   "metadata": {},
   "outputs": [
    {
     "data": {
      "image/png": "[encoded data removed]",
      "text/latex": [
       "$\\displaystyle \\vec{v}_{1} + \\vec{v}_{2} - \\vec{v}_{1}$"
      ],
      "text/plain": [
       "VecAdd(-VectorSymbol(v_1), VecAdd(VectorSymbol(v_1), VectorSymbol(v_2)))"
      ]
     },
     "execution_count": 15,
     "metadata": {},
     "output_type": "execute_result"
    }
   ],
   "source": [
    "v1 + v2 - v1"
   ]
  },
  {
   "cell_type": "markdown",
   "metadata": {},
   "source": [
    "Here it would be reasonable to expect `v1` to be eliminated. If `VecAdd` was a subclass of `Add`, that would be done automatically.\n",
    "\n",
    "Unfortunately, if `VecAdd` would be a subclass of `Add`, when taking a n-th derivative it would return an instance of `Add`, where:\n",
    "1. it is not possible to assign the property `is_Vector`;\n",
    "2. without a reliable `is_Vector` value, it would introduce errors in further operations (think about dot and cross products).\n",
    "\n",
    "This is why `VecAdd` isn't derived from `Add`. Hopefully this will change if I understand how to prevent the post-processing done after differentiation."
   ]
  },
  {
   "cell_type": "code",
   "execution_count": null,
   "metadata": {},
   "outputs": [],
   "source": []
  }
 ],
 "metadata": {
  "kernelspec": {
   "display_name": "Python 3",
   "language": "python",
   "name": "python3"
  },
  "language_info": {
   "codemirror_mode": {
    "name": "ipython",
    "version": 3
   },
   "file_extension": ".py",
   "mimetype": "text/x-python",
   "name": "python",
   "nbconvert_exporter": "python",
   "pygments_lexer": "ipython3",
   "version": "3.7.5"
  },
  "toc": {
   "base_numbering": 1,
   "nav_menu": {},
   "number_sections": true,
   "sideBar": true,
   "skip_h1_title": false,
   "title_cell": "Table of Contents",
   "title_sidebar": "Contents",
   "toc_cell": false,
   "toc_position": {},
   "toc_section_display": true,
   "toc_window_display": false
  }
 },
 "nbformat": 4,
 "nbformat_minor": 2
}
