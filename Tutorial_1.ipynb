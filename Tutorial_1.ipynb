{
 "cells": [
  {
   "cell_type": "markdown",
   "metadata": {},
   "source": [
    "# Vector Expressions"
   ]
  },
  {
   "cell_type": "markdown",
   "metadata": {},
   "source": [
    "## Imports and set the printer"
   ]
  },
  {
   "cell_type": "code",
   "execution_count": 1,
   "metadata": {},
   "outputs": [],
   "source": [
    "import sympy as sp\n",
    "# need to import the custom function to print vectors\n",
    "from vector_expr_printing import vector_latex\n",
    "# starting point of a vector expression is a vector symbol\n",
    "from vector_expr import VectorSymbol, VectorExpr\n",
    "# also import symbolic vectors\n",
    "from sympy.vector import CoordSys3D, Vector"
   ]
  },
  {
   "cell_type": "code",
   "execution_count": 2,
   "metadata": {},
   "outputs": [],
   "source": [
    "# setting the printer to use latex_vector function\n",
    "from sympy.interactive import printing\n",
    "printing.init_printing(latex_printer=vector_latex)"
   ]
  },
  {
   "cell_type": "markdown",
   "metadata": {},
   "source": [
    "## Expressions"
   ]
  },
  {
   "cell_type": "markdown",
   "metadata": {},
   "source": [
    "Let's create a couple of symbols:"
   ]
  },
  {
   "cell_type": "code",
   "execution_count": 3,
   "metadata": {},
   "outputs": [
    {
     "data": {
      "image/png": "[encoded data removed]",
      "text/latex": [
       "$\\displaystyle \\left( \\vec{v}_{1}, \\  \\vec{v}_{2}\\right)$"
      ],
      "text/plain": [
       "(VectorSymbol(v_1), VectorSymbol(v_2))"
      ]
     },
     "execution_count": 3,
     "metadata": {},
     "output_type": "execute_result"
    }
   ],
   "source": [
    "v1 = VectorSymbol(\"v_1\")\n",
    "v2 = VectorSymbol(\"v_2\")\n",
    "v1, v2"
   ]
  },
  {
   "cell_type": "markdown",
   "metadata": {},
   "source": [
    "There are useful vectors that are defined as singletons:"
   ]
  },
  {
   "cell_type": "code",
   "execution_count": 4,
   "metadata": {},
   "outputs": [
    {
     "data": {
      "image/png": "[encoded data removed]",
      "text/latex": [
       "$\\displaystyle \\left( \\nabla, \\  \\vec{0}, \\  \\vec{1}\\right)$"
      ],
      "text/plain": [
       "(Nabla(\\nabla), VectorZero(0), VectorOne(1))"
      ]
     },
     "execution_count": 4,
     "metadata": {},
     "output_type": "execute_result"
    }
   ],
   "source": [
    "nabla = sp.S.Nabla\n",
    "zero = sp.S.VectorZero\n",
    "one = sp.S.VectorOne\n",
    "nabla, zero, one"
   ]
  },
  {
   "cell_type": "markdown",
   "metadata": {},
   "source": [
    "Note that these three singletons are instances of `VectorSymbol`, for example:"
   ]
  },
  {
   "cell_type": "code",
   "execution_count": 5,
   "metadata": {},
   "outputs": [
    {
     "data": {
      "text/plain": [
       "True"
      ]
     },
     "execution_count": 5,
     "metadata": {},
     "output_type": "execute_result"
    }
   ],
   "source": [
    "isinstance(one, VectorSymbol)"
   ]
  },
  {
   "cell_type": "markdown",
   "metadata": {},
   "source": [
    "Dot product can be achieved with `&` operator or with the method `dot`:"
   ]
  },
  {
   "cell_type": "code",
   "execution_count": 6,
   "metadata": {},
   "outputs": [
    {
     "data": {
      "image/png": "[encoded data removed]",
      "text/latex": [
       "$\\displaystyle \\left( \\vec{v}_{1} \\cdot \\vec{v}_{2}, \\  \\vec{v}_{1} \\cdot \\vec{v}_{2}, \\  0\\right)$"
      ],
      "text/plain": [
       "(VecDot(VectorSymbol(v_1), VectorSymbol(v_2)), VecDot(VectorSymbol(v_1), Vecto\n",
       "rSymbol(v_2)), 0)"
      ]
     },
     "execution_count": 6,
     "metadata": {},
     "output_type": "execute_result"
    }
   ],
   "source": [
    "v1 & v2, v1.dot(v2), v1.dot(zero)"
   ]
  },
  {
   "cell_type": "markdown",
   "metadata": {},
   "source": [
    "Dot product is going to create an object of type `VecDot`:"
   ]
  },
  {
   "cell_type": "code",
   "execution_count": 7,
   "metadata": {},
   "outputs": [
    {
     "data": {
      "text/plain": [
       "vector_expr.VecDot"
      ]
     },
     "execution_count": 7,
     "metadata": {},
     "output_type": "execute_result"
    }
   ],
   "source": [
    "type(v1 & v2)"
   ]
  },
  {
   "cell_type": "markdown",
   "metadata": {},
   "source": [
    "Cross product can be achieved with `^` operator or with the method `cross`:"
   ]
  },
  {
   "cell_type": "code",
   "execution_count": 8,
   "metadata": {},
   "outputs": [
    {
     "data": {
      "image/png": "[encoded data removed]",
      "text/latex": [
       "$\\displaystyle \\left( \\vec{v}_{1} \\times \\vec{v}_{2}, \\  \\vec{v}_{1} \\times \\vec{v}_{2}, \\  \\vec{0}, \\  \\vec{0}\\right)$"
      ],
      "text/plain": [
       "(VecCross(VectorSymbol(v_1), VectorSymbol(v_2)), VecCross(VectorSymbol(v_1), V\n",
       "ectorSymbol(v_2)), VectorZero(0), VectorZero(0))"
      ]
     },
     "execution_count": 8,
     "metadata": {},
     "output_type": "execute_result"
    }
   ],
   "source": [
    "v1 ^ v2, v1.cross(v2), v1 ^ v1, v1 ^ zero"
   ]
  },
  {
   "cell_type": "markdown",
   "metadata": {},
   "source": [
    "Cross product is going to create an object of type `VecCross`:"
   ]
  },
  {
   "cell_type": "code",
   "execution_count": 9,
   "metadata": {},
   "outputs": [
    {
     "data": {
      "text/plain": [
       "vector_expr.VecCross"
      ]
     },
     "execution_count": 9,
     "metadata": {},
     "output_type": "execute_result"
    }
   ],
   "source": [
    "type(v1 ^ v2)"
   ]
  },
  {
   "cell_type": "markdown",
   "metadata": {},
   "source": [
    "`VecDot` and `VecCross` instances expose the property reverse:"
   ]
  },
  {
   "cell_type": "code",
   "execution_count": 10,
   "metadata": {},
   "outputs": [
    {
     "data": {
      "image/png": "[encoded data removed]",
      "text/latex": [
       "$\\displaystyle \\left( \\vec{v}_{2} \\cdot \\vec{v}_{1}, \\  - \\vec{v}_{2} \\times \\vec{v}_{1}\\right)$"
      ],
      "text/plain": [
       "(VecDot(VectorSymbol(v_2), VectorSymbol(v_1)), -VecCross(VectorSymbol(v_2), Ve\n",
       "ctorSymbol(v_1)))"
      ]
     },
     "execution_count": 10,
     "metadata": {},
     "output_type": "execute_result"
    }
   ],
   "source": [
    "(v1 & v2).reverse, (v1 ^ v2).reverse"
   ]
  },
  {
   "cell_type": "markdown",
   "metadata": {},
   "source": [
    "To sum or subtract two or more vectors:"
   ]
  },
  {
   "cell_type": "code",
   "execution_count": 11,
   "metadata": {},
   "outputs": [
    {
     "data": {
      "image/png": "[encoded data removed]",
      "text/latex": [
       "$\\displaystyle \\vec{v}_{1} + \\vec{v}_{2} - \\vec{1}$"
      ],
      "text/plain": [
       "VecAdd(-VectorOne(1), VecAdd(VectorSymbol(v_1), VectorSymbol(v_2)))"
      ]
     },
     "execution_count": 11,
     "metadata": {},
     "output_type": "execute_result"
    }
   ],
   "source": [
    "s = v1 + v2 - one\n",
    "s"
   ]
  },
  {
   "cell_type": "markdown",
   "metadata": {},
   "source": [
    "Addition is going to create an object of type `VecAdd`:"
   ]
  },
  {
   "cell_type": "code",
   "execution_count": 12,
   "metadata": {},
   "outputs": [
    {
     "data": {
      "text/plain": [
       "vector_expr.VecAdd"
      ]
     },
     "execution_count": 12,
     "metadata": {},
     "output_type": "execute_result"
    }
   ],
   "source": [
    "type(s)"
   ]
  },
  {
   "cell_type": "markdown",
   "metadata": {},
   "source": [
    "There are other methods and properties that we can use, namely:\n",
    "* `mag` as an alias for `magnitude()`;\n",
    "* `norm` as an alias for `normalize()`, to return a unit vector;\n",
    "* `div` as an alias for `divergence()`;\n",
    "* `curl()`;\n",
    "\n",
    "Note the types of the returned objects:"
   ]
  },
  {
   "cell_type": "code",
   "execution_count": 13,
   "metadata": {},
   "outputs": [
    {
     "data": {
      "image/png": "[encoded data removed]",
      "text/latex": [
       "$\\displaystyle \\left( \\|\\vec{v}_{1}\\|, \\  \\frac{\\vec{v}_{1}}{\\|\\vec{v}_{1}\\|}, \\  \\nabla \\cdot \\vec{v}_{1}, \\  \\nabla \\times \\vec{v}_{1}\\right)$"
      ],
      "text/plain": [
       "(Magnitude(VectorSymbol(v_1)), Normalize(VectorSymbol(v_1)), VecDot(Nabla(\\nab\n",
       "la), VectorSymbol(v_1)), VecCross(Nabla(\\nabla), VectorSymbol(v_1)))"
      ]
     },
     "metadata": {},
     "output_type": "display_data"
    },
    {
     "name": "stdout",
     "output_type": "stream",
     "text": [
      "<class 'vector_expr.Magnitude'>\n",
      "<class 'vector_expr.Normalize'>\n",
      "<class 'vector_expr.VecDot'>\n",
      "<class 'vector_expr.VecCross'>\n"
     ]
    }
   ],
   "source": [
    "p = (v1.mag, v1.norm, v1.div, v1.curl())\n",
    "display(p)\n",
    "for e in p:\n",
    "    print(type(e))"
   ]
  },
  {
   "cell_type": "markdown",
   "metadata": {},
   "source": [
    "Here `Normalize` represents an unevaluated unit vector: what we are seeing is effectively one object, even if it has been rendered as a fraction! It is also possible to change its rendering to obtain $\\hat{v}_{1}$ (note the hat) by passing arguments to the function `vector_latex`: we will see later how to achieve that.\n",
    "\n",
    "It is worth mentioning that we can evaluate the `Normalize` object: at creation time by passing the flag `evaluate=True` to the constructor, or after it has been created by calling the method `doit()`. For example:"
   ]
  },
  {
   "cell_type": "code",
   "execution_count": 14,
   "metadata": {},
   "outputs": [
    {
     "data": {
      "image/png": "[encoded data removed]",
      "text/latex": [
       "$\\displaystyle \\frac{1}{\\|\\vec{v}_{1}\\|} \\vec{v}_{1}$"
      ],
      "text/plain": [
       "VecPow(Magnitude(VectorSymbol(v_1)), -1)⋅VectorSymbol(v_1)"
      ]
     },
     "metadata": {},
     "output_type": "display_data"
    },
    {
     "name": "stdout",
     "output_type": "stream",
     "text": [
      "VecMul(VecPow(Magnitude(VectorSymbol(Symbol('v_1'))), Integer(-1)), VectorSymbol(Symbol('v_1')))\n"
     ]
    }
   ],
   "source": [
    "n = v1.norm.doit()\n",
    "display(n)\n",
    "print(sp.srepr(n))"
   ]
  },
  {
   "cell_type": "markdown",
   "metadata": {},
   "source": [
    "As we can see, we have created an expression containing a fraction where it's denominator represent the magnitude, all multiplied by the original vector.\n",
    "\n",
    "Note the use of `VecPow` to represent the fraction, similar to Sympy expressions."
   ]
  },
  {
   "cell_type": "markdown",
   "metadata": {},
   "source": [
    "Note that `VectorSymbol`, `VecAdd`, `VecCross`, `VecDot`, `VecPow`, ..., are all instances of `VectorExpr`."
   ]
  },
  {
   "cell_type": "code",
   "execution_count": 15,
   "metadata": {},
   "outputs": [
    {
     "data": {
      "text/plain": [
       "True"
      ]
     },
     "execution_count": 15,
     "metadata": {},
     "output_type": "execute_result"
    }
   ],
   "source": [
    "isinstance(v1, VectorExpr)"
   ]
  },
  {
   "cell_type": "markdown",
   "metadata": {},
   "source": [
    "From the operations above, you may be thinking that the methods and properties previously introduced are defined in the `VectorSymbol` class: that's wrong, they are defined in the `VectorExpr` class! This allows us to do more convoluted operations:"
   ]
  },
  {
   "cell_type": "code",
   "execution_count": 16,
   "metadata": {},
   "outputs": [
    {
     "data": {
      "image/png": "[encoded data removed]",
      "text/latex": [
       "$\\displaystyle \\left( \\|\\vec{v}_{1} + \\vec{v}_{2}\\|, \\  \\frac{\\vec{v}_{1} + \\vec{v}_{2}}{\\|\\vec{v}_{1} + \\vec{v}_{2}\\|}, \\  \\nabla \\cdot \\vec{v}_{1} + \\vec{v}_{2}, \\  \\nabla \\times \\vec{v}_{1} + \\vec{v}_{2}\\right)$"
      ],
      "text/plain": [
       "(Magnitude(VecAdd(VectorSymbol(v_1), VectorSymbol(v_2))), Normalize(VecAdd(Vec\n",
       "torSymbol(v_1), VectorSymbol(v_2))), VecDot(Nabla(\\nabla), VecAdd(VectorSymbol\n",
       "(v_1), VectorSymbol(v_2))), VecCross(Nabla(\\nabla), VecAdd(VectorSymbol(v_1), \n",
       "VectorSymbol(v_2))))"
      ]
     },
     "execution_count": 16,
     "metadata": {},
     "output_type": "execute_result"
    }
   ],
   "source": [
    "expr = v1 + v2\n",
    "expr.mag, expr.norm, expr.div, expr.curl()"
   ]
  },
  {
   "cell_type": "markdown",
   "metadata": {},
   "source": [
    "Here we can also appreciate the reasoning behind the default rendering of `Normalize`: if we were to use the default symbol for unit vectors (the hat) it would have looked awful."
   ]
  },
  {
   "cell_type": "markdown",
   "metadata": {},
   "source": [
    "When we think about dot products and magnitudes, they produce scalar results. Nonetheless, they are considered vector expressions.\n",
    "\n",
    "It is possible to combine different operations together, though they must obey the vector operations rules. For example, it is perfectly legit to add two vectors together: "
   ]
  },
  {
   "cell_type": "code",
   "execution_count": 17,
   "metadata": {},
   "outputs": [
    {
     "data": {
      "image/png": "[encoded data removed]",
      "text/latex": [
       "$\\displaystyle \\vec{v}_{1} + \\vec{v}_{2}$"
      ],
      "text/plain": [
       "VecAdd(VectorSymbol(v_1), VectorSymbol(v_2))"
      ]
     },
     "execution_count": 17,
     "metadata": {},
     "output_type": "execute_result"
    }
   ],
   "source": [
    "v1 + v2"
   ]
  },
  {
   "cell_type": "markdown",
   "metadata": {},
   "source": [
    "However, it is not possible to add a vector and a scalar:"
   ]
  },
  {
   "cell_type": "code",
   "execution_count": 18,
   "metadata": {},
   "outputs": [
    {
     "ename": "TypeError",
     "evalue": "Mix of Vector and Scalar symbols",
     "output_type": "error",
     "traceback": [
      "\u001b[0;31m---------------------------------------------------------------------------\u001b[0m",
      "\u001b[0;31mTypeError\u001b[0m                                 Traceback (most recent call last)",
      "\u001b[0;32m<ipython-input-18-b40b2774061c>\u001b[0m in \u001b[0;36m<module>\u001b[0;34m\u001b[0m\n\u001b[0;32m----> 1\u001b[0;31m \u001b[0mv1\u001b[0m \u001b[0;34m+\u001b[0m \u001b[0;36m2\u001b[0m\u001b[0;34m\u001b[0m\u001b[0;34m\u001b[0m\u001b[0m\n\u001b[0m",
      "\u001b[0;32m~/Documents/Development/Propulsion/Nuclear Thermal Rocket/Sympy-Book/vector_expressions/vector_expr.py\u001b[0m in \u001b[0;36m__add__\u001b[0;34m(self, other)\u001b[0m\n\u001b[1;32m     61\u001b[0m \u001b[0;34m\u001b[0m\u001b[0m\n\u001b[1;32m     62\u001b[0m     \u001b[0;32mdef\u001b[0m \u001b[0m__add__\u001b[0m\u001b[0;34m(\u001b[0m\u001b[0mself\u001b[0m\u001b[0;34m,\u001b[0m \u001b[0mother\u001b[0m\u001b[0;34m)\u001b[0m\u001b[0;34m:\u001b[0m\u001b[0;34m\u001b[0m\u001b[0;34m\u001b[0m\u001b[0m\n\u001b[0;32m---> 63\u001b[0;31m         \u001b[0;32mreturn\u001b[0m \u001b[0mVecAdd\u001b[0m\u001b[0;34m(\u001b[0m\u001b[0mself\u001b[0m\u001b[0;34m,\u001b[0m \u001b[0mother\u001b[0m\u001b[0;34m,\u001b[0m \u001b[0mcheck\u001b[0m\u001b[0;34m=\u001b[0m\u001b[0;32mTrue\u001b[0m\u001b[0;34m)\u001b[0m\u001b[0;34m\u001b[0m\u001b[0;34m\u001b[0m\u001b[0m\n\u001b[0m\u001b[1;32m     64\u001b[0m \u001b[0;34m\u001b[0m\u001b[0m\n\u001b[1;32m     65\u001b[0m     \u001b[0;32mdef\u001b[0m \u001b[0m__radd__\u001b[0m\u001b[0;34m(\u001b[0m\u001b[0mself\u001b[0m\u001b[0;34m,\u001b[0m \u001b[0mother\u001b[0m\u001b[0;34m)\u001b[0m\u001b[0;34m:\u001b[0m\u001b[0;34m\u001b[0m\u001b[0;34m\u001b[0m\u001b[0m\n",
      "\u001b[0;32m~/Documents/Development/Propulsion/Nuclear Thermal Rocket/Sympy-Book/vector_expressions/vector_expr.py\u001b[0m in \u001b[0;36m__new__\u001b[0;34m(cls, *args, **kwargs)\u001b[0m\n\u001b[1;32m    547\u001b[0m                 \u001b[0;32mreturn\u001b[0m \u001b[0msp\u001b[0m\u001b[0;34m.\u001b[0m\u001b[0mAdd\u001b[0m\u001b[0;34m.\u001b[0m\u001b[0mfromiter\u001b[0m\u001b[0;34m(\u001b[0m\u001b[0margs\u001b[0m\u001b[0;34m)\u001b[0m\u001b[0;34m\u001b[0m\u001b[0;34m\u001b[0m\u001b[0m\n\u001b[1;32m    548\u001b[0m             \u001b[0;32mif\u001b[0m \u001b[0;34m(\u001b[0m\u001b[0mare_vectors\u001b[0m \u001b[0;32mand\u001b[0m \u001b[0mare_scalars\u001b[0m\u001b[0;34m)\u001b[0m\u001b[0;34m:\u001b[0m\u001b[0;34m\u001b[0m\u001b[0;34m\u001b[0m\u001b[0m\n\u001b[0;32m--> 549\u001b[0;31m                 \u001b[0;32mraise\u001b[0m \u001b[0mTypeError\u001b[0m\u001b[0;34m(\u001b[0m\u001b[0;34m\"Mix of Vector and Scalar symbols\"\u001b[0m\u001b[0;34m)\u001b[0m\u001b[0;34m\u001b[0m\u001b[0;34m\u001b[0m\u001b[0m\n\u001b[0m\u001b[1;32m    550\u001b[0m \u001b[0;34m\u001b[0m\u001b[0m\n\u001b[1;32m    551\u001b[0m         \u001b[0;32mreturn\u001b[0m \u001b[0mobj\u001b[0m\u001b[0;34m\u001b[0m\u001b[0;34m\u001b[0m\u001b[0m\n",
      "\u001b[0;31mTypeError\u001b[0m: Mix of Vector and Scalar symbols"
     ]
    }
   ],
   "source": [
    "v1 + 2"
   ]
  },
  {
   "cell_type": "markdown",
   "metadata": {},
   "source": [
    "If we wish to add a scalar to all the components of the vector, we can use:"
   ]
  },
  {
   "cell_type": "code",
   "execution_count": 19,
   "metadata": {},
   "outputs": [
    {
     "data": {
      "image/png": "[encoded data removed]",
      "text/latex": [
       "$\\displaystyle 2 \\vec{1} + \\vec{v}_{1}$"
      ],
      "text/plain": [
       "VecAdd(2*VectorOne(1), VectorSymbol(v_1))"
      ]
     },
     "execution_count": 19,
     "metadata": {},
     "output_type": "execute_result"
    }
   ],
   "source": [
    "v1 + 2 * one"
   ]
  },
  {
   "cell_type": "markdown",
   "metadata": {},
   "source": [
    "We can also add different scalar components together:"
   ]
  },
  {
   "cell_type": "code",
   "execution_count": 20,
   "metadata": {},
   "outputs": [
    {
     "data": {
      "image/png": "[encoded data removed]",
      "text/latex": [
       "$\\displaystyle \\|\\vec{v}_{1}\\| + \\|\\vec{v}_{2}\\|$"
      ],
      "text/plain": [
       "VecAdd(Magnitude(VectorSymbol(v_1)), Magnitude(VectorSymbol(v_2)))"
      ]
     },
     "metadata": {},
     "output_type": "display_data"
    },
    {
     "name": "stdout",
     "output_type": "stream",
     "text": [
      "<class 'vector_expr.VecAdd'>\n"
     ]
    }
   ],
   "source": [
    "s = v1.mag + v2.mag\n",
    "display(s)\n",
    "print(type(s))"
   ]
  },
  {
   "cell_type": "markdown",
   "metadata": {},
   "source": [
    "As we can see, we still have a vector expression!\n",
    "\n",
    "Note that at this point we must be careful about the precedence of the operations. For instance, we might be thinking that the following expression would work:"
   ]
  },
  {
   "cell_type": "code",
   "execution_count": 21,
   "metadata": {},
   "outputs": [
    {
     "ename": "TypeError",
     "evalue": "Mix of Vector and Scalar symbols",
     "output_type": "error",
     "traceback": [
      "\u001b[0;31m---------------------------------------------------------------------------\u001b[0m",
      "\u001b[0;31mTypeError\u001b[0m                                 Traceback (most recent call last)",
      "\u001b[0;32m<ipython-input-21-7f95c8b80263>\u001b[0m in \u001b[0;36m<module>\u001b[0;34m\u001b[0m\n\u001b[0;32m----> 1\u001b[0;31m \u001b[0mv1\u001b[0m\u001b[0;34m.\u001b[0m\u001b[0mmag\u001b[0m \u001b[0;34m+\u001b[0m \u001b[0mv1\u001b[0m \u001b[0;34m&\u001b[0m \u001b[0mv2\u001b[0m \u001b[0;34m+\u001b[0m \u001b[0;36m4\u001b[0m\u001b[0;34m\u001b[0m\u001b[0;34m\u001b[0m\u001b[0m\n\u001b[0m",
      "\u001b[0;32m~/Documents/Development/Propulsion/Nuclear Thermal Rocket/Sympy-Book/vector_expressions/vector_expr.py\u001b[0m in \u001b[0;36m__add__\u001b[0;34m(self, other)\u001b[0m\n\u001b[1;32m     61\u001b[0m \u001b[0;34m\u001b[0m\u001b[0m\n\u001b[1;32m     62\u001b[0m     \u001b[0;32mdef\u001b[0m \u001b[0m__add__\u001b[0m\u001b[0;34m(\u001b[0m\u001b[0mself\u001b[0m\u001b[0;34m,\u001b[0m \u001b[0mother\u001b[0m\u001b[0;34m)\u001b[0m\u001b[0;34m:\u001b[0m\u001b[0;34m\u001b[0m\u001b[0;34m\u001b[0m\u001b[0m\n\u001b[0;32m---> 63\u001b[0;31m         \u001b[0;32mreturn\u001b[0m \u001b[0mVecAdd\u001b[0m\u001b[0;34m(\u001b[0m\u001b[0mself\u001b[0m\u001b[0;34m,\u001b[0m \u001b[0mother\u001b[0m\u001b[0;34m,\u001b[0m \u001b[0mcheck\u001b[0m\u001b[0;34m=\u001b[0m\u001b[0;32mTrue\u001b[0m\u001b[0;34m)\u001b[0m\u001b[0;34m\u001b[0m\u001b[0;34m\u001b[0m\u001b[0m\n\u001b[0m\u001b[1;32m     64\u001b[0m \u001b[0;34m\u001b[0m\u001b[0m\n\u001b[1;32m     65\u001b[0m     \u001b[0;32mdef\u001b[0m \u001b[0m__radd__\u001b[0m\u001b[0;34m(\u001b[0m\u001b[0mself\u001b[0m\u001b[0;34m,\u001b[0m \u001b[0mother\u001b[0m\u001b[0;34m)\u001b[0m\u001b[0;34m:\u001b[0m\u001b[0;34m\u001b[0m\u001b[0;34m\u001b[0m\u001b[0m\n",
      "\u001b[0;32m~/Documents/Development/Propulsion/Nuclear Thermal Rocket/Sympy-Book/vector_expressions/vector_expr.py\u001b[0m in \u001b[0;36m__new__\u001b[0;34m(cls, *args, **kwargs)\u001b[0m\n\u001b[1;32m    547\u001b[0m                 \u001b[0;32mreturn\u001b[0m \u001b[0msp\u001b[0m\u001b[0;34m.\u001b[0m\u001b[0mAdd\u001b[0m\u001b[0;34m.\u001b[0m\u001b[0mfromiter\u001b[0m\u001b[0;34m(\u001b[0m\u001b[0margs\u001b[0m\u001b[0;34m)\u001b[0m\u001b[0;34m\u001b[0m\u001b[0;34m\u001b[0m\u001b[0m\n\u001b[1;32m    548\u001b[0m             \u001b[0;32mif\u001b[0m \u001b[0;34m(\u001b[0m\u001b[0mare_vectors\u001b[0m \u001b[0;32mand\u001b[0m \u001b[0mare_scalars\u001b[0m\u001b[0;34m)\u001b[0m\u001b[0;34m:\u001b[0m\u001b[0;34m\u001b[0m\u001b[0;34m\u001b[0m\u001b[0m\n\u001b[0;32m--> 549\u001b[0;31m                 \u001b[0;32mraise\u001b[0m \u001b[0mTypeError\u001b[0m\u001b[0;34m(\u001b[0m\u001b[0;34m\"Mix of Vector and Scalar symbols\"\u001b[0m\u001b[0;34m)\u001b[0m\u001b[0;34m\u001b[0m\u001b[0;34m\u001b[0m\u001b[0m\n\u001b[0m\u001b[1;32m    550\u001b[0m \u001b[0;34m\u001b[0m\u001b[0m\n\u001b[1;32m    551\u001b[0m         \u001b[0;32mreturn\u001b[0m \u001b[0mobj\u001b[0m\u001b[0;34m\u001b[0m\u001b[0;34m\u001b[0m\u001b[0m\n",
      "\u001b[0;31mTypeError\u001b[0m: Mix of Vector and Scalar symbols"
     ]
    }
   ],
   "source": [
    "v1.mag + v1 & v2 + 4"
   ]
  },
  {
   "cell_type": "markdown",
   "metadata": {},
   "source": [
    "However, at this point of development `v1.mag + v1` has the precedence over `v1 & v2`, therefore `v1.mag + v1` is a mix between scalar and vector symbols. To perform this kind of operations, we better use parentheses:"
   ]
  },
  {
   "cell_type": "code",
   "execution_count": 22,
   "metadata": {},
   "outputs": [
    {
     "data": {
      "image/png": "[encoded data removed]",
      "text/latex": [
       "$\\displaystyle \\|\\vec{v}_{1}\\| + \\vec{v}_{1} \\cdot \\vec{v}_{2} + 4$"
      ],
      "text/plain": [
       "VecAdd(4, VecAdd(Magnitude(VectorSymbol(v_1)), VecDot(VectorSymbol(v_1), Vecto\n",
       "rSymbol(v_2))))"
      ]
     },
     "execution_count": 22,
     "metadata": {},
     "output_type": "execute_result"
    }
   ],
   "source": [
    "expr = v1.mag + (v1 & v2) + 4\n",
    "expr"
   ]
  },
  {
   "cell_type": "markdown",
   "metadata": {},
   "source": [
    "We have seen that vector expressions may contains vectors or results of operations over vectors. We can use the property `is_Vector` to verify if a vector expression contains vectors or scalars. For example:"
   ]
  },
  {
   "cell_type": "code",
   "execution_count": 23,
   "metadata": {},
   "outputs": [
    {
     "data": {
      "text/plain": [
       "True"
      ]
     },
     "execution_count": 23,
     "metadata": {},
     "output_type": "execute_result"
    }
   ],
   "source": [
    "expr = v1 + v2\n",
    "expr.is_Vector"
   ]
  },
  {
   "cell_type": "code",
   "execution_count": 24,
   "metadata": {},
   "outputs": [
    {
     "data": {
      "text/plain": [
       "False"
      ]
     },
     "execution_count": 24,
     "metadata": {},
     "output_type": "execute_result"
    }
   ],
   "source": [
    "expr = v1.mag + (nabla & v2)\n",
    "expr.is_Vector"
   ]
  },
  {
   "cell_type": "markdown",
   "metadata": {},
   "source": [
    "## Evaluation"
   ]
  },
  {
   "cell_type": "markdown",
   "metadata": {},
   "source": [
    "Say we finally developed out vector expressions and we would like to insert actual vectors (with their respective components). We create the vector from the module `sympy.vector`:"
   ]
  },
  {
   "cell_type": "code",
   "execution_count": 25,
   "metadata": {},
   "outputs": [
    {
     "data": {
      "image/png": "[encoded data removed]",
      "text/latex": [
       "$\\displaystyle \\left( (4 \\mathbf{{x}_{C}})\\mathbf{\\hat{i}_{C}} + \\mathbf{\\hat{j}_{C}} + (\\mathbf{{z}_{C}} a)\\mathbf{\\hat{k}_{C}}, \\  (a^{2} + b)\\mathbf{\\hat{j}_{C}} + (2)\\mathbf{\\hat{k}_{C}}\\right)$"
      ],
      "text/plain": [
       "⎛(4⋅x_C) i_C + j_C + (z_C⋅a) k_C, ⎛ 2    ⎞               ⎞\n",
       "⎝                                 ⎝a  + b⎠ j_C  + (2) k_C⎠"
      ]
     },
     "execution_count": 25,
     "metadata": {},
     "output_type": "execute_result"
    }
   ],
   "source": [
    "C = CoordSys3D(\"C\")\n",
    "a, b = sp.symbols(\"a, b\", real=True)\n",
    "vn1 = 4 * C.x * C.i + C.j + a * C.z * C.k\n",
    "vn2 = (a**2 + b) * C.j + 2 * C.k\n",
    "vn1, vn2"
   ]
  },
  {
   "cell_type": "markdown",
   "metadata": {},
   "source": [
    "Then we use the method `subs()`:"
   ]
  },
  {
   "cell_type": "code",
   "execution_count": 26,
   "metadata": {},
   "outputs": [
    {
     "data": {
      "image/png": "[encoded data removed]",
      "text/latex": [
       "$\\displaystyle 2 \\mathbf{{z}_{C}} a + a^{2} + b + \\sqrt{16 \\mathbf{{x}_{C}}^{2} + \\mathbf{{z}_{C}}^{2} a^{2} + 1} + 4$"
      ],
      "text/plain": [
       "                      _______________________    \n",
       "           2         ╱       2      2  2         \n",
       "2⋅z_C⋅a + a  + b + ╲╱  16⋅x_C  + z_C ⋅a  + 1  + 4"
      ]
     },
     "execution_count": 26,
     "metadata": {},
     "output_type": "execute_result"
    }
   ],
   "source": [
    "expr = v1.mag + (v1 & v2) + 4\n",
    "expr.subs({v1: vn1, v2: vn2}).doit()"
   ]
  },
  {
   "cell_type": "markdown",
   "metadata": {},
   "source": [
    "Note however that we must be careful in what we are doing, for example:"
   ]
  },
  {
   "cell_type": "code",
   "execution_count": 27,
   "metadata": {},
   "outputs": [
    {
     "data": {
      "image/png": "[encoded data removed]",
      "text/latex": [
       "$\\displaystyle \\vec{1} \\cdot \\left((4 \\mathbf{{x}_{C}})\\mathbf{\\hat{i}_{C}} + \\mathbf{\\hat{j}_{C}} + (\\mathbf{{z}_{C}} a)\\mathbf{\\hat{k}_{C}}\\right)$"
      ],
      "text/plain": [
       "VecDot(VectorOne(1), 4*C.x*C.i + C.j + C.z*a*C.k)"
      ]
     },
     "execution_count": 27,
     "metadata": {},
     "output_type": "execute_result"
    }
   ],
   "source": [
    "expr = one & v1\n",
    "expr\n",
    "expr.subs({v1: vn1}).doit()"
   ]
  },
  {
   "cell_type": "markdown",
   "metadata": {},
   "source": [
    "You may be wondering why the expression has not been fully evaluated. That's because every vector need a reference system, even the unit vector. But the symbolic `VectorOne` is just a symbol, it doesn't have any specific reference system. To fully evaluate the previous expression, we need to create a one vector:"
   ]
  },
  {
   "cell_type": "code",
   "execution_count": 28,
   "metadata": {},
   "outputs": [
    {
     "data": {
      "image/png": "[encoded data removed]",
      "text/latex": [
       "$\\displaystyle 4 \\mathbf{{x}_{C}} + \\mathbf{{z}_{C}} a + 1$"
      ],
      "text/plain": [
       "4⋅x_C + z_C⋅a + 1"
      ]
     },
     "execution_count": 28,
     "metadata": {},
     "output_type": "execute_result"
    }
   ],
   "source": [
    "oneC = C.i + C.j + C.k\n",
    "expr.subs({v1: vn1, one: oneC}).doit()"
   ]
  },
  {
   "cell_type": "markdown",
   "metadata": {},
   "source": [
    "Look at what happens if we use a one-vector from a different reference system:"
   ]
  },
  {
   "cell_type": "code",
   "execution_count": 29,
   "metadata": {},
   "outputs": [
    {
     "data": {
      "image/png": "[encoded data removed]",
      "text/latex": [
       "$\\displaystyle 4 \\mathbf{{x}_{C}} \\left(\\mathbf{\\hat{i}_{C}} \\cdot \\mathbf{\\hat{i}_{R}}\\right) + 4 \\mathbf{{x}_{C}} \\left(\\mathbf{\\hat{i}_{C}} \\cdot \\mathbf{\\hat{j}_{R}}\\right) + 4 \\mathbf{{x}_{C}} \\left(\\mathbf{\\hat{i}_{C}} \\cdot \\mathbf{\\hat{k}_{R}}\\right) + \\mathbf{{z}_{C}} a \\left(\\mathbf{\\hat{k}_{C}} \\cdot \\mathbf{\\hat{i}_{R}}\\right) + \\mathbf{{z}_{C}} a \\left(\\mathbf{\\hat{k}_{C}} \\cdot \\mathbf{\\hat{j}_{R}}\\right) + \\mathbf{{z}_{C}} a \\left(\\mathbf{\\hat{k}_{C}} \\cdot \\mathbf{\\hat{k}_{R}}\\right) + \\mathbf{\\hat{j}_{C}} \\cdot \\mathbf{\\hat{i}_{R}} + \\mathbf{\\hat{j}_{C}} \\cdot \\mathbf{\\hat{j}_{R}} + \\mathbf{\\hat{j}_{C}} \\cdot \\mathbf{\\hat{k}_{R}}$"
      ],
      "text/plain": [
       "4⋅x_C⋅(i_C)⋅(i_R) + 4⋅x_C⋅(i_C)⋅(j_R) + 4⋅x_C⋅(i_C)⋅(k_R) + z_C⋅a⋅(k_C)⋅(i_R) \n",
       "+ z_C⋅a⋅(k_C)⋅(j_R) + z_C⋅a⋅(k_C)⋅(k_R) + (j_C)⋅(i_R) + (j_C)⋅(j_R) + (j_C)⋅(k\n",
       "_R)"
      ]
     },
     "execution_count": 29,
     "metadata": {},
     "output_type": "execute_result"
    }
   ],
   "source": [
    "R = CoordSys3D(\"R\")\n",
    "oneR = R.i + R.j + R.k\n",
    "expr.subs({v1: vn1, one: oneR}).doit()"
   ]
  },
  {
   "cell_type": "code",
   "execution_count": null,
   "metadata": {},
   "outputs": [],
   "source": []
  }
 ],
 "metadata": {
  "kernelspec": {
   "display_name": "Python 3",
   "language": "python",
   "name": "python3"
  },
  "language_info": {
   "codemirror_mode": {
    "name": "ipython",
    "version": 3
   },
   "file_extension": ".py",
   "mimetype": "text/x-python",
   "name": "python",
   "nbconvert_exporter": "python",
   "pygments_lexer": "ipython3",
   "version": "3.7.5"
  },
  "toc": {
   "base_numbering": 1,
   "nav_menu": {},
   "number_sections": true,
   "sideBar": true,
   "skip_h1_title": false,
   "title_cell": "Table of Contents",
   "title_sidebar": "Contents",
   "toc_cell": false,
   "toc_position": {},
   "toc_section_display": true,
   "toc_window_display": false
  }
 },
 "nbformat": 4,
 "nbformat_minor": 2
}
